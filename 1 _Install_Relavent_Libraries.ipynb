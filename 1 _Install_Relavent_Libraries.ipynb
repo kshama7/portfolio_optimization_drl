{
 "cells": [
  {
   "cell_type": "markdown",
   "metadata": {},
   "source": [
    "# Portfolio Optimization using Deep Reinforcement Learning\n",
    "---"
   ]
  },
  {
   "cell_type": "markdown",
   "metadata": {},
   "source": [
    "## 1.0 Load and Install Relevant Libraries and Packages\n",
    "----\n",
    "\n",
    "* We install the relevant Libraries using the FinRL Library\n",
    "* We further check that all the required Libraries are installed and if not we use !pip install to install them"
   ]
  },
  {
   "cell_type": "markdown",
   "metadata": {},
   "source": [
    "### 1.1 Install Packages through FinRL Library      "
   ]
  },
  {
   "cell_type": "code",
   "execution_count": 1,
   "metadata": {},
   "outputs": [],
   "source": [
    "%store -z"
   ]
  },
  {
   "cell_type": "code",
   "execution_count": 2,
   "metadata": {},
   "outputs": [
    {
     "name": "stdout",
     "output_type": "stream",
     "text": [
      "Stored variables and their in-db values:\n"
     ]
    }
   ],
   "source": [
    "%store"
   ]
  },
  {
   "cell_type": "code",
   "execution_count": 3,
   "metadata": {},
   "outputs": [
    {
     "name": "stderr",
     "output_type": "stream",
     "text": [
      "/var/folders/3z/6b2hp23s5sg2j9x4jt4hyh_80000gn/T/ipykernel_99439/1392027263.py:3: DeprecationWarning: pkg_resources is deprecated as an API. See https://setuptools.pypa.io/en/latest/pkg_resources.html\n",
      "  import pkg_resources\n"
     ]
    }
   ],
   "source": [
    "## install finrl library if not installed\n",
    "\n",
    "import pkg_resources\n",
    "import pip\n",
    "installedPackages = {pkg.key for pkg in pkg_resources.working_set} # list of installed packages\n",
    "\n",
    "if 'finrl' not in installedPackages:\n",
    "    !pip install git+https://github.com/AI4Finance-LLC/FinRL-Library.git #clone the FinRL library to install required packages"
   ]
  },
  {
   "cell_type": "markdown",
   "metadata": {},
   "source": [
    "----\n",
    "### 1.2. Check if the additional Required packages are present. If not, install them\n",
    "\n",
    "* Yahoo Finance API\n",
    "* pandas\n",
    "* numpy\n",
    "* matplotlib\n",
    "* stockstats\n",
    "* OpenAI gym\n",
    "* stable-baselines\n",
    "* tensorflow\n",
    "* pyfolio\n",
    "* ta\n",
    "* PyPortfolioOpt"
   ]
  },
  {
   "cell_type": "code",
   "execution_count": 4,
   "metadata": {},
   "outputs": [
    {
     "name": "stdout",
     "output_type": "stream",
     "text": [
      "Requirement already satisfied: yfinance in /Library/Frameworks/Python.framework/Versions/3.10/lib/python3.10/site-packages (0.2.37)\n",
      "Requirement already satisfied: pandas>=1.3.0 in /Library/Frameworks/Python.framework/Versions/3.10/lib/python3.10/site-packages (from yfinance) (2.2.1)\n",
      "Requirement already satisfied: numpy>=1.16.5 in /Library/Frameworks/Python.framework/Versions/3.10/lib/python3.10/site-packages (from yfinance) (1.26.4)\n",
      "Requirement already satisfied: requests>=2.31 in /Library/Frameworks/Python.framework/Versions/3.10/lib/python3.10/site-packages (from yfinance) (2.31.0)\n",
      "Requirement already satisfied: multitasking>=0.0.7 in /Library/Frameworks/Python.framework/Versions/3.10/lib/python3.10/site-packages (from yfinance) (0.0.11)\n",
      "Requirement already satisfied: lxml>=4.9.1 in /Library/Frameworks/Python.framework/Versions/3.10/lib/python3.10/site-packages (from yfinance) (5.1.0)\n",
      "Requirement already satisfied: appdirs>=1.4.4 in /Library/Frameworks/Python.framework/Versions/3.10/lib/python3.10/site-packages (from yfinance) (1.4.4)\n",
      "Requirement already satisfied: pytz>=2022.5 in /Library/Frameworks/Python.framework/Versions/3.10/lib/python3.10/site-packages (from yfinance) (2024.1)\n",
      "Requirement already satisfied: frozendict>=2.3.4 in /Library/Frameworks/Python.framework/Versions/3.10/lib/python3.10/site-packages (from yfinance) (2.4.0)\n",
      "Requirement already satisfied: peewee>=3.16.2 in /Library/Frameworks/Python.framework/Versions/3.10/lib/python3.10/site-packages (from yfinance) (3.17.1)\n",
      "Requirement already satisfied: beautifulsoup4>=4.11.1 in /Library/Frameworks/Python.framework/Versions/3.10/lib/python3.10/site-packages (from yfinance) (4.12.3)\n",
      "Requirement already satisfied: html5lib>=1.1 in /Library/Frameworks/Python.framework/Versions/3.10/lib/python3.10/site-packages (from yfinance) (1.1)\n",
      "Requirement already satisfied: soupsieve>1.2 in /Library/Frameworks/Python.framework/Versions/3.10/lib/python3.10/site-packages (from beautifulsoup4>=4.11.1->yfinance) (2.5)\n",
      "Requirement already satisfied: six>=1.9 in /Users/kshama/Library/Python/3.10/lib/python/site-packages (from html5lib>=1.1->yfinance) (1.16.0)\n",
      "Requirement already satisfied: webencodings in /Library/Frameworks/Python.framework/Versions/3.10/lib/python3.10/site-packages (from html5lib>=1.1->yfinance) (0.5.1)\n",
      "Requirement already satisfied: python-dateutil>=2.8.2 in /Users/kshama/Library/Python/3.10/lib/python/site-packages (from pandas>=1.3.0->yfinance) (2.9.0.post0)\n",
      "Requirement already satisfied: tzdata>=2022.7 in /Library/Frameworks/Python.framework/Versions/3.10/lib/python3.10/site-packages (from pandas>=1.3.0->yfinance) (2024.1)\n",
      "Requirement already satisfied: charset-normalizer<4,>=2 in /Library/Frameworks/Python.framework/Versions/3.10/lib/python3.10/site-packages (from requests>=2.31->yfinance) (3.3.2)\n",
      "Requirement already satisfied: idna<4,>=2.5 in /Library/Frameworks/Python.framework/Versions/3.10/lib/python3.10/site-packages (from requests>=2.31->yfinance) (3.6)\n",
      "Requirement already satisfied: urllib3<3,>=1.21.1 in /Library/Frameworks/Python.framework/Versions/3.10/lib/python3.10/site-packages (from requests>=2.31->yfinance) (1.26.18)\n",
      "Requirement already satisfied: certifi>=2017.4.17 in /Library/Frameworks/Python.framework/Versions/3.10/lib/python3.10/site-packages (from requests>=2.31->yfinance) (2024.2.2)\n",
      "Requirement already satisfied: pandas in /Library/Frameworks/Python.framework/Versions/3.10/lib/python3.10/site-packages (2.2.1)\n",
      "Requirement already satisfied: numpy<2,>=1.22.4 in /Library/Frameworks/Python.framework/Versions/3.10/lib/python3.10/site-packages (from pandas) (1.26.4)\n",
      "Requirement already satisfied: python-dateutil>=2.8.2 in /Users/kshama/Library/Python/3.10/lib/python/site-packages (from pandas) (2.9.0.post0)\n",
      "Requirement already satisfied: pytz>=2020.1 in /Library/Frameworks/Python.framework/Versions/3.10/lib/python3.10/site-packages (from pandas) (2024.1)\n",
      "Requirement already satisfied: tzdata>=2022.7 in /Library/Frameworks/Python.framework/Versions/3.10/lib/python3.10/site-packages (from pandas) (2024.1)\n",
      "Requirement already satisfied: six>=1.5 in /Users/kshama/Library/Python/3.10/lib/python/site-packages (from python-dateutil>=2.8.2->pandas) (1.16.0)\n",
      "Requirement already satisfied: numpy in /Library/Frameworks/Python.framework/Versions/3.10/lib/python3.10/site-packages (1.26.4)\n",
      "Requirement already satisfied: matplotlib in /Library/Frameworks/Python.framework/Versions/3.10/lib/python3.10/site-packages (3.8.3)\n",
      "Requirement already satisfied: contourpy>=1.0.1 in /Library/Frameworks/Python.framework/Versions/3.10/lib/python3.10/site-packages (from matplotlib) (1.2.0)\n",
      "Requirement already satisfied: cycler>=0.10 in /Library/Frameworks/Python.framework/Versions/3.10/lib/python3.10/site-packages (from matplotlib) (0.12.1)\n",
      "Requirement already satisfied: fonttools>=4.22.0 in /Library/Frameworks/Python.framework/Versions/3.10/lib/python3.10/site-packages (from matplotlib) (4.50.0)\n",
      "Requirement already satisfied: kiwisolver>=1.3.1 in /Library/Frameworks/Python.framework/Versions/3.10/lib/python3.10/site-packages (from matplotlib) (1.4.5)\n",
      "Requirement already satisfied: numpy<2,>=1.21 in /Library/Frameworks/Python.framework/Versions/3.10/lib/python3.10/site-packages (from matplotlib) (1.26.4)\n",
      "Requirement already satisfied: packaging>=20.0 in /Library/Frameworks/Python.framework/Versions/3.10/lib/python3.10/site-packages (from matplotlib) (23.2)\n",
      "Requirement already satisfied: pillow>=8 in /Library/Frameworks/Python.framework/Versions/3.10/lib/python3.10/site-packages (from matplotlib) (10.2.0)\n",
      "Requirement already satisfied: pyparsing>=2.3.1 in /Library/Frameworks/Python.framework/Versions/3.10/lib/python3.10/site-packages (from matplotlib) (3.1.2)\n",
      "Requirement already satisfied: python-dateutil>=2.7 in /Users/kshama/Library/Python/3.10/lib/python/site-packages (from matplotlib) (2.9.0.post0)\n",
      "Requirement already satisfied: six>=1.5 in /Users/kshama/Library/Python/3.10/lib/python/site-packages (from python-dateutil>=2.7->matplotlib) (1.16.0)\n",
      "Requirement already satisfied: stockstats in /Library/Frameworks/Python.framework/Versions/3.10/lib/python3.10/site-packages (0.5.4)\n",
      "Requirement already satisfied: pandas>=0.24.2 in /Library/Frameworks/Python.framework/Versions/3.10/lib/python3.10/site-packages (from stockstats) (2.2.1)\n",
      "Requirement already satisfied: numpy<2,>=1.22.4 in /Library/Frameworks/Python.framework/Versions/3.10/lib/python3.10/site-packages (from pandas>=0.24.2->stockstats) (1.26.4)\n",
      "Requirement already satisfied: python-dateutil>=2.8.2 in /Users/kshama/Library/Python/3.10/lib/python/site-packages (from pandas>=0.24.2->stockstats) (2.9.0.post0)\n",
      "Requirement already satisfied: pytz>=2020.1 in /Library/Frameworks/Python.framework/Versions/3.10/lib/python3.10/site-packages (from pandas>=0.24.2->stockstats) (2024.1)\n",
      "Requirement already satisfied: tzdata>=2022.7 in /Library/Frameworks/Python.framework/Versions/3.10/lib/python3.10/site-packages (from pandas>=0.24.2->stockstats) (2024.1)\n",
      "Requirement already satisfied: six>=1.5 in /Users/kshama/Library/Python/3.10/lib/python/site-packages (from python-dateutil>=2.8.2->pandas>=0.24.2->stockstats) (1.16.0)\n",
      "Requirement already satisfied: gym in /Library/Frameworks/Python.framework/Versions/3.10/lib/python3.10/site-packages (0.26.2)\n",
      "Requirement already satisfied: numpy>=1.18.0 in /Library/Frameworks/Python.framework/Versions/3.10/lib/python3.10/site-packages (from gym) (1.26.4)\n",
      "Requirement already satisfied: cloudpickle>=1.2.0 in /Library/Frameworks/Python.framework/Versions/3.10/lib/python3.10/site-packages (from gym) (3.0.0)\n",
      "Requirement already satisfied: gym-notices>=0.0.4 in /Library/Frameworks/Python.framework/Versions/3.10/lib/python3.10/site-packages (from gym) (0.0.8)\n",
      "zsh:1: no matches found: stable-baselines3[extra]\n",
      "Requirement already satisfied: tensorflow in /Library/Frameworks/Python.framework/Versions/3.10/lib/python3.10/site-packages (2.16.1)\n",
      "Requirement already satisfied: absl-py>=1.0.0 in /Library/Frameworks/Python.framework/Versions/3.10/lib/python3.10/site-packages (from tensorflow) (2.1.0)\n",
      "Requirement already satisfied: astunparse>=1.6.0 in /Library/Frameworks/Python.framework/Versions/3.10/lib/python3.10/site-packages (from tensorflow) (1.6.3)\n",
      "Requirement already satisfied: flatbuffers>=23.5.26 in /Library/Frameworks/Python.framework/Versions/3.10/lib/python3.10/site-packages (from tensorflow) (24.3.25)\n",
      "Requirement already satisfied: gast!=0.5.0,!=0.5.1,!=0.5.2,>=0.2.1 in /Library/Frameworks/Python.framework/Versions/3.10/lib/python3.10/site-packages (from tensorflow) (0.5.4)\n",
      "Requirement already satisfied: google-pasta>=0.1.1 in /Library/Frameworks/Python.framework/Versions/3.10/lib/python3.10/site-packages (from tensorflow) (0.2.0)\n",
      "Requirement already satisfied: h5py>=3.10.0 in /Library/Frameworks/Python.framework/Versions/3.10/lib/python3.10/site-packages (from tensorflow) (3.10.0)\n",
      "Requirement already satisfied: libclang>=13.0.0 in /Library/Frameworks/Python.framework/Versions/3.10/lib/python3.10/site-packages (from tensorflow) (18.1.1)\n",
      "Requirement already satisfied: ml-dtypes~=0.3.1 in /Library/Frameworks/Python.framework/Versions/3.10/lib/python3.10/site-packages (from tensorflow) (0.3.2)\n",
      "Requirement already satisfied: opt-einsum>=2.3.2 in /Library/Frameworks/Python.framework/Versions/3.10/lib/python3.10/site-packages (from tensorflow) (3.3.0)\n",
      "Requirement already satisfied: packaging in /Library/Frameworks/Python.framework/Versions/3.10/lib/python3.10/site-packages (from tensorflow) (23.2)\n",
      "Requirement already satisfied: protobuf!=4.21.0,!=4.21.1,!=4.21.2,!=4.21.3,!=4.21.4,!=4.21.5,<5.0.0dev,>=3.20.3 in /Library/Frameworks/Python.framework/Versions/3.10/lib/python3.10/site-packages (from tensorflow) (4.25.3)\n",
      "Requirement already satisfied: requests<3,>=2.21.0 in /Library/Frameworks/Python.framework/Versions/3.10/lib/python3.10/site-packages (from tensorflow) (2.31.0)\n",
      "Requirement already satisfied: setuptools in /Library/Frameworks/Python.framework/Versions/3.10/lib/python3.10/site-packages (from tensorflow) (69.2.0)\n",
      "Requirement already satisfied: six>=1.12.0 in /Users/kshama/Library/Python/3.10/lib/python/site-packages (from tensorflow) (1.16.0)\n",
      "Requirement already satisfied: termcolor>=1.1.0 in /Library/Frameworks/Python.framework/Versions/3.10/lib/python3.10/site-packages (from tensorflow) (2.4.0)\n",
      "Requirement already satisfied: typing-extensions>=3.6.6 in /Library/Frameworks/Python.framework/Versions/3.10/lib/python3.10/site-packages (from tensorflow) (4.10.0)\n",
      "Requirement already satisfied: wrapt>=1.11.0 in /Library/Frameworks/Python.framework/Versions/3.10/lib/python3.10/site-packages (from tensorflow) (1.16.0)\n",
      "Requirement already satisfied: grpcio<2.0,>=1.24.3 in /Library/Frameworks/Python.framework/Versions/3.10/lib/python3.10/site-packages (from tensorflow) (1.62.1)\n",
      "Requirement already satisfied: tensorboard<2.17,>=2.16 in /Library/Frameworks/Python.framework/Versions/3.10/lib/python3.10/site-packages (from tensorflow) (2.16.2)\n",
      "Requirement already satisfied: keras>=3.0.0 in /Library/Frameworks/Python.framework/Versions/3.10/lib/python3.10/site-packages (from tensorflow) (3.1.1)\n",
      "Requirement already satisfied: tensorflow-io-gcs-filesystem>=0.23.1 in /Library/Frameworks/Python.framework/Versions/3.10/lib/python3.10/site-packages (from tensorflow) (0.36.0)\n",
      "Requirement already satisfied: numpy<2.0.0,>=1.23.5 in /Library/Frameworks/Python.framework/Versions/3.10/lib/python3.10/site-packages (from tensorflow) (1.26.4)\n",
      "Requirement already satisfied: wheel<1.0,>=0.23.0 in /Library/Frameworks/Python.framework/Versions/3.10/lib/python3.10/site-packages (from astunparse>=1.6.0->tensorflow) (0.43.0)\n",
      "Requirement already satisfied: rich in /Library/Frameworks/Python.framework/Versions/3.10/lib/python3.10/site-packages (from keras>=3.0.0->tensorflow) (13.7.1)\n",
      "Requirement already satisfied: namex in /Library/Frameworks/Python.framework/Versions/3.10/lib/python3.10/site-packages (from keras>=3.0.0->tensorflow) (0.0.7)\n",
      "Requirement already satisfied: optree in /Library/Frameworks/Python.framework/Versions/3.10/lib/python3.10/site-packages (from keras>=3.0.0->tensorflow) (0.11.0)\n",
      "Requirement already satisfied: charset-normalizer<4,>=2 in /Library/Frameworks/Python.framework/Versions/3.10/lib/python3.10/site-packages (from requests<3,>=2.21.0->tensorflow) (3.3.2)\n",
      "Requirement already satisfied: idna<4,>=2.5 in /Library/Frameworks/Python.framework/Versions/3.10/lib/python3.10/site-packages (from requests<3,>=2.21.0->tensorflow) (3.6)\n",
      "Requirement already satisfied: urllib3<3,>=1.21.1 in /Library/Frameworks/Python.framework/Versions/3.10/lib/python3.10/site-packages (from requests<3,>=2.21.0->tensorflow) (1.26.18)\n",
      "Requirement already satisfied: certifi>=2017.4.17 in /Library/Frameworks/Python.framework/Versions/3.10/lib/python3.10/site-packages (from requests<3,>=2.21.0->tensorflow) (2024.2.2)\n",
      "Requirement already satisfied: markdown>=2.6.8 in /Library/Frameworks/Python.framework/Versions/3.10/lib/python3.10/site-packages (from tensorboard<2.17,>=2.16->tensorflow) (3.6)\n",
      "Requirement already satisfied: tensorboard-data-server<0.8.0,>=0.7.0 in /Library/Frameworks/Python.framework/Versions/3.10/lib/python3.10/site-packages (from tensorboard<2.17,>=2.16->tensorflow) (0.7.2)\n",
      "Requirement already satisfied: werkzeug>=1.0.1 in /Library/Frameworks/Python.framework/Versions/3.10/lib/python3.10/site-packages (from tensorboard<2.17,>=2.16->tensorflow) (3.0.1)\n",
      "Requirement already satisfied: MarkupSafe>=2.1.1 in /Library/Frameworks/Python.framework/Versions/3.10/lib/python3.10/site-packages (from werkzeug>=1.0.1->tensorboard<2.17,>=2.16->tensorflow) (2.1.5)\n",
      "Requirement already satisfied: markdown-it-py>=2.2.0 in /Library/Frameworks/Python.framework/Versions/3.10/lib/python3.10/site-packages (from rich->keras>=3.0.0->tensorflow) (3.0.0)\n",
      "Requirement already satisfied: pygments<3.0.0,>=2.13.0 in /Users/kshama/Library/Python/3.10/lib/python/site-packages (from rich->keras>=3.0.0->tensorflow) (2.17.2)\n",
      "Requirement already satisfied: mdurl~=0.1 in /Library/Frameworks/Python.framework/Versions/3.10/lib/python3.10/site-packages (from markdown-it-py>=2.2.0->rich->keras>=3.0.0->tensorflow) (0.1.2)\n",
      "Collecting git+https://github.com/quantopian/pyfolio\n",
      "  Cloning https://github.com/quantopian/pyfolio to /private/var/folders/3z/6b2hp23s5sg2j9x4jt4hyh_80000gn/T/pip-req-build-cifa5rm3\n",
      "  Running command git clone --quiet https://github.com/quantopian/pyfolio /private/var/folders/3z/6b2hp23s5sg2j9x4jt4hyh_80000gn/T/pip-req-build-cifa5rm3\n",
      "  Resolved https://github.com/quantopian/pyfolio to commit 4b901f6d73aa02ceb6d04b7d83502e5c6f2e81aa\n",
      "  Preparing metadata (setup.py) ... \u001b[?25ldone\n",
      "\u001b[?25hRequirement already satisfied: ipython>=3.2.3 in /Users/kshama/Library/Python/3.10/lib/python/site-packages (from pyfolio==0.9.2+75.g4b901f6) (8.22.2)\n",
      "Requirement already satisfied: matplotlib>=1.4.0 in /Library/Frameworks/Python.framework/Versions/3.10/lib/python3.10/site-packages (from pyfolio==0.9.2+75.g4b901f6) (3.8.3)\n",
      "Requirement already satisfied: numpy>=1.11.1 in /Library/Frameworks/Python.framework/Versions/3.10/lib/python3.10/site-packages (from pyfolio==0.9.2+75.g4b901f6) (1.26.4)\n",
      "Requirement already satisfied: pandas>=0.18.1 in /Library/Frameworks/Python.framework/Versions/3.10/lib/python3.10/site-packages (from pyfolio==0.9.2+75.g4b901f6) (2.2.1)\n",
      "Requirement already satisfied: pytz>=2014.10 in /Library/Frameworks/Python.framework/Versions/3.10/lib/python3.10/site-packages (from pyfolio==0.9.2+75.g4b901f6) (2024.1)\n",
      "Requirement already satisfied: scipy>=0.14.0 in /Library/Frameworks/Python.framework/Versions/3.10/lib/python3.10/site-packages (from pyfolio==0.9.2+75.g4b901f6) (1.12.0)\n",
      "Requirement already satisfied: scikit-learn>=0.16.1 in /Library/Frameworks/Python.framework/Versions/3.10/lib/python3.10/site-packages (from pyfolio==0.9.2+75.g4b901f6) (1.4.1.post1)\n",
      "Requirement already satisfied: seaborn>=0.7.1 in /Library/Frameworks/Python.framework/Versions/3.10/lib/python3.10/site-packages (from pyfolio==0.9.2+75.g4b901f6) (0.13.2)\n",
      "Requirement already satisfied: empyrical>=0.5.0 in /Library/Frameworks/Python.framework/Versions/3.10/lib/python3.10/site-packages (from pyfolio==0.9.2+75.g4b901f6) (0.5.5)\n",
      "Requirement already satisfied: pandas-datareader>=0.2 in /Library/Frameworks/Python.framework/Versions/3.10/lib/python3.10/site-packages (from empyrical>=0.5.0->pyfolio==0.9.2+75.g4b901f6) (0.10.0)\n",
      "Requirement already satisfied: decorator in /Users/kshama/Library/Python/3.10/lib/python/site-packages (from ipython>=3.2.3->pyfolio==0.9.2+75.g4b901f6) (5.1.1)\n",
      "Requirement already satisfied: jedi>=0.16 in /Users/kshama/Library/Python/3.10/lib/python/site-packages (from ipython>=3.2.3->pyfolio==0.9.2+75.g4b901f6) (0.19.1)\n",
      "Requirement already satisfied: matplotlib-inline in /Users/kshama/Library/Python/3.10/lib/python/site-packages (from ipython>=3.2.3->pyfolio==0.9.2+75.g4b901f6) (0.1.6)\n",
      "Requirement already satisfied: prompt-toolkit<3.1.0,>=3.0.41 in /Users/kshama/Library/Python/3.10/lib/python/site-packages (from ipython>=3.2.3->pyfolio==0.9.2+75.g4b901f6) (3.0.43)\n",
      "Requirement already satisfied: pygments>=2.4.0 in /Users/kshama/Library/Python/3.10/lib/python/site-packages (from ipython>=3.2.3->pyfolio==0.9.2+75.g4b901f6) (2.17.2)\n",
      "Requirement already satisfied: stack-data in /Users/kshama/Library/Python/3.10/lib/python/site-packages (from ipython>=3.2.3->pyfolio==0.9.2+75.g4b901f6) (0.6.3)\n",
      "Requirement already satisfied: traitlets>=5.13.0 in /Users/kshama/Library/Python/3.10/lib/python/site-packages (from ipython>=3.2.3->pyfolio==0.9.2+75.g4b901f6) (5.14.2)\n",
      "Requirement already satisfied: exceptiongroup in /Users/kshama/Library/Python/3.10/lib/python/site-packages (from ipython>=3.2.3->pyfolio==0.9.2+75.g4b901f6) (1.2.0)\n",
      "Requirement already satisfied: pexpect>4.3 in /Users/kshama/Library/Python/3.10/lib/python/site-packages (from ipython>=3.2.3->pyfolio==0.9.2+75.g4b901f6) (4.9.0)\n",
      "Requirement already satisfied: contourpy>=1.0.1 in /Library/Frameworks/Python.framework/Versions/3.10/lib/python3.10/site-packages (from matplotlib>=1.4.0->pyfolio==0.9.2+75.g4b901f6) (1.2.0)\n",
      "Requirement already satisfied: cycler>=0.10 in /Library/Frameworks/Python.framework/Versions/3.10/lib/python3.10/site-packages (from matplotlib>=1.4.0->pyfolio==0.9.2+75.g4b901f6) (0.12.1)\n",
      "Requirement already satisfied: fonttools>=4.22.0 in /Library/Frameworks/Python.framework/Versions/3.10/lib/python3.10/site-packages (from matplotlib>=1.4.0->pyfolio==0.9.2+75.g4b901f6) (4.50.0)\n",
      "Requirement already satisfied: kiwisolver>=1.3.1 in /Library/Frameworks/Python.framework/Versions/3.10/lib/python3.10/site-packages (from matplotlib>=1.4.0->pyfolio==0.9.2+75.g4b901f6) (1.4.5)\n",
      "Requirement already satisfied: packaging>=20.0 in /Library/Frameworks/Python.framework/Versions/3.10/lib/python3.10/site-packages (from matplotlib>=1.4.0->pyfolio==0.9.2+75.g4b901f6) (23.2)\n",
      "Requirement already satisfied: pillow>=8 in /Library/Frameworks/Python.framework/Versions/3.10/lib/python3.10/site-packages (from matplotlib>=1.4.0->pyfolio==0.9.2+75.g4b901f6) (10.2.0)\n",
      "Requirement already satisfied: pyparsing>=2.3.1 in /Library/Frameworks/Python.framework/Versions/3.10/lib/python3.10/site-packages (from matplotlib>=1.4.0->pyfolio==0.9.2+75.g4b901f6) (3.1.2)\n",
      "Requirement already satisfied: python-dateutil>=2.7 in /Users/kshama/Library/Python/3.10/lib/python/site-packages (from matplotlib>=1.4.0->pyfolio==0.9.2+75.g4b901f6) (2.9.0.post0)\n",
      "Requirement already satisfied: tzdata>=2022.7 in /Library/Frameworks/Python.framework/Versions/3.10/lib/python3.10/site-packages (from pandas>=0.18.1->pyfolio==0.9.2+75.g4b901f6) (2024.1)\n",
      "Requirement already satisfied: joblib>=1.2.0 in /Library/Frameworks/Python.framework/Versions/3.10/lib/python3.10/site-packages (from scikit-learn>=0.16.1->pyfolio==0.9.2+75.g4b901f6) (1.3.2)\n",
      "Requirement already satisfied: threadpoolctl>=2.0.0 in /Library/Frameworks/Python.framework/Versions/3.10/lib/python3.10/site-packages (from scikit-learn>=0.16.1->pyfolio==0.9.2+75.g4b901f6) (3.4.0)\n",
      "Requirement already satisfied: parso<0.9.0,>=0.8.3 in /Users/kshama/Library/Python/3.10/lib/python/site-packages (from jedi>=0.16->ipython>=3.2.3->pyfolio==0.9.2+75.g4b901f6) (0.8.3)\n",
      "Requirement already satisfied: lxml in /Library/Frameworks/Python.framework/Versions/3.10/lib/python3.10/site-packages (from pandas-datareader>=0.2->empyrical>=0.5.0->pyfolio==0.9.2+75.g4b901f6) (5.1.0)\n",
      "Requirement already satisfied: requests>=2.19.0 in /Library/Frameworks/Python.framework/Versions/3.10/lib/python3.10/site-packages (from pandas-datareader>=0.2->empyrical>=0.5.0->pyfolio==0.9.2+75.g4b901f6) (2.31.0)\n",
      "Requirement already satisfied: ptyprocess>=0.5 in /Users/kshama/Library/Python/3.10/lib/python/site-packages (from pexpect>4.3->ipython>=3.2.3->pyfolio==0.9.2+75.g4b901f6) (0.7.0)\n",
      "Requirement already satisfied: wcwidth in /Users/kshama/Library/Python/3.10/lib/python/site-packages (from prompt-toolkit<3.1.0,>=3.0.41->ipython>=3.2.3->pyfolio==0.9.2+75.g4b901f6) (0.2.13)\n",
      "Requirement already satisfied: six>=1.5 in /Users/kshama/Library/Python/3.10/lib/python/site-packages (from python-dateutil>=2.7->matplotlib>=1.4.0->pyfolio==0.9.2+75.g4b901f6) (1.16.0)\n",
      "Requirement already satisfied: executing>=1.2.0 in /Users/kshama/Library/Python/3.10/lib/python/site-packages (from stack-data->ipython>=3.2.3->pyfolio==0.9.2+75.g4b901f6) (2.0.1)\n",
      "Requirement already satisfied: asttokens>=2.1.0 in /Users/kshama/Library/Python/3.10/lib/python/site-packages (from stack-data->ipython>=3.2.3->pyfolio==0.9.2+75.g4b901f6) (2.4.1)\n",
      "Requirement already satisfied: pure-eval in /Users/kshama/Library/Python/3.10/lib/python/site-packages (from stack-data->ipython>=3.2.3->pyfolio==0.9.2+75.g4b901f6) (0.2.2)\n",
      "Requirement already satisfied: charset-normalizer<4,>=2 in /Library/Frameworks/Python.framework/Versions/3.10/lib/python3.10/site-packages (from requests>=2.19.0->pandas-datareader>=0.2->empyrical>=0.5.0->pyfolio==0.9.2+75.g4b901f6) (3.3.2)\n",
      "Requirement already satisfied: idna<4,>=2.5 in /Library/Frameworks/Python.framework/Versions/3.10/lib/python3.10/site-packages (from requests>=2.19.0->pandas-datareader>=0.2->empyrical>=0.5.0->pyfolio==0.9.2+75.g4b901f6) (3.6)\n",
      "Requirement already satisfied: urllib3<3,>=1.21.1 in /Library/Frameworks/Python.framework/Versions/3.10/lib/python3.10/site-packages (from requests>=2.19.0->pandas-datareader>=0.2->empyrical>=0.5.0->pyfolio==0.9.2+75.g4b901f6) (1.26.18)\n",
      "Requirement already satisfied: certifi>=2017.4.17 in /Library/Frameworks/Python.framework/Versions/3.10/lib/python3.10/site-packages (from requests>=2.19.0->pandas-datareader>=0.2->empyrical>=0.5.0->pyfolio==0.9.2+75.g4b901f6) (2024.2.2)\n",
      "Requirement already satisfied: ta in /Library/Frameworks/Python.framework/Versions/3.10/lib/python3.10/site-packages (0.11.0)\n",
      "Requirement already satisfied: numpy in /Library/Frameworks/Python.framework/Versions/3.10/lib/python3.10/site-packages (from ta) (1.26.4)\n",
      "Requirement already satisfied: pandas in /Library/Frameworks/Python.framework/Versions/3.10/lib/python3.10/site-packages (from ta) (2.2.1)\n",
      "Requirement already satisfied: python-dateutil>=2.8.2 in /Users/kshama/Library/Python/3.10/lib/python/site-packages (from pandas->ta) (2.9.0.post0)\n",
      "Requirement already satisfied: pytz>=2020.1 in /Library/Frameworks/Python.framework/Versions/3.10/lib/python3.10/site-packages (from pandas->ta) (2024.1)\n",
      "Requirement already satisfied: tzdata>=2022.7 in /Library/Frameworks/Python.framework/Versions/3.10/lib/python3.10/site-packages (from pandas->ta) (2024.1)\n",
      "Requirement already satisfied: six>=1.5 in /Users/kshama/Library/Python/3.10/lib/python/site-packages (from python-dateutil>=2.8.2->pandas->ta) (1.16.0)\n",
      "Requirement already satisfied: PyPortfolioOpt in /Library/Frameworks/Python.framework/Versions/3.10/lib/python3.10/site-packages (1.5.5)\n",
      "Requirement already satisfied: cvxpy<2.0.0,>=1.1.19 in /Library/Frameworks/Python.framework/Versions/3.10/lib/python3.10/site-packages (from PyPortfolioOpt) (1.4.2)\n",
      "Requirement already satisfied: numpy<2.0.0,>=1.22.4 in /Library/Frameworks/Python.framework/Versions/3.10/lib/python3.10/site-packages (from PyPortfolioOpt) (1.26.4)\n",
      "Requirement already satisfied: pandas>=0.19 in /Library/Frameworks/Python.framework/Versions/3.10/lib/python3.10/site-packages (from PyPortfolioOpt) (2.2.1)\n",
      "Requirement already satisfied: scipy<2.0,>=1.3 in /Library/Frameworks/Python.framework/Versions/3.10/lib/python3.10/site-packages (from PyPortfolioOpt) (1.12.0)\n",
      "Requirement already satisfied: osqp>=0.6.2 in /Library/Frameworks/Python.framework/Versions/3.10/lib/python3.10/site-packages (from cvxpy<2.0.0,>=1.1.19->PyPortfolioOpt) (0.6.4)\n",
      "Requirement already satisfied: ecos>=2 in /Library/Frameworks/Python.framework/Versions/3.10/lib/python3.10/site-packages (from cvxpy<2.0.0,>=1.1.19->PyPortfolioOpt) (2.0.13)\n",
      "Requirement already satisfied: clarabel>=0.5.0 in /Library/Frameworks/Python.framework/Versions/3.10/lib/python3.10/site-packages (from cvxpy<2.0.0,>=1.1.19->PyPortfolioOpt) (0.7.1)\n",
      "Requirement already satisfied: scs>=3.0 in /Library/Frameworks/Python.framework/Versions/3.10/lib/python3.10/site-packages (from cvxpy<2.0.0,>=1.1.19->PyPortfolioOpt) (3.2.4.post1)\n",
      "Requirement already satisfied: pybind11 in /Library/Frameworks/Python.framework/Versions/3.10/lib/python3.10/site-packages (from cvxpy<2.0.0,>=1.1.19->PyPortfolioOpt) (2.12.0)\n",
      "Requirement already satisfied: python-dateutil>=2.8.2 in /Users/kshama/Library/Python/3.10/lib/python/site-packages (from pandas>=0.19->PyPortfolioOpt) (2.9.0.post0)\n",
      "Requirement already satisfied: pytz>=2020.1 in /Library/Frameworks/Python.framework/Versions/3.10/lib/python3.10/site-packages (from pandas>=0.19->PyPortfolioOpt) (2024.1)\n",
      "Requirement already satisfied: tzdata>=2022.7 in /Library/Frameworks/Python.framework/Versions/3.10/lib/python3.10/site-packages (from pandas>=0.19->PyPortfolioOpt) (2024.1)\n",
      "Requirement already satisfied: qdldl in /Library/Frameworks/Python.framework/Versions/3.10/lib/python3.10/site-packages (from osqp>=0.6.2->cvxpy<2.0.0,>=1.1.19->PyPortfolioOpt) (0.1.7.post0)\n",
      "Requirement already satisfied: six>=1.5 in /Users/kshama/Library/Python/3.10/lib/python/site-packages (from python-dateutil>=2.8.2->pandas>=0.19->PyPortfolioOpt) (1.16.0)\n"
     ]
    }
   ],
   "source": [
    "required = {'yfinance', 'pandas','numpy', 'matplotlib', 'stockstats','stable-baselines',\n",
    "            'gym','tensorflow','pyfolio', 'ta', 'PyPortfolioOpt'}\n",
    "missing = required - installedPackages\n",
    "if missing:\n",
    "    !pip install yfinance\n",
    "    !pip install pandas\n",
    "    !pip install numpy\n",
    "    !pip install matplotlib\n",
    "    !pip install stockstats\n",
    "    !pip install gym\n",
    "    !pip install stable-baselines3[extra]\n",
    "    !pip install tensorflow\n",
    "    !pip install git+https://github.com/quantopian/pyfolio\n",
    "    !pip install ta\n",
    "    !pip install PyPortfolioOpt"
   ]
  },
  {
   "cell_type": "code",
   "execution_count": null,
   "metadata": {},
   "outputs": [],
   "source": []
  }
 ],
 "metadata": {
  "kernelspec": {
   "display_name": "Python 3",
   "language": "python",
   "name": "python3"
  },
  "language_info": {
   "codemirror_mode": {
    "name": "ipython",
    "version": 3
   },
   "file_extension": ".py",
   "mimetype": "text/x-python",
   "name": "python",
   "nbconvert_exporter": "python",
   "pygments_lexer": "ipython3",
   "version": "3.10.11"
  }
 },
 "nbformat": 4,
 "nbformat_minor": 4
}
