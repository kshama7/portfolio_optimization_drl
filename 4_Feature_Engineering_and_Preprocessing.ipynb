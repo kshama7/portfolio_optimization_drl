{
 "cells": [
  {
   "cell_type": "markdown",
   "metadata": {},
   "source": [
    "# Portfolio Optimization using Deep Reinforcement Learning\n",
    "---"
   ]
  },
  {
   "cell_type": "markdown",
   "metadata": {},
   "source": [
    "## 4.0 Feature Engineering and Data Preprocessing\n",
    "---\n",
    "We perform feature engineering and data preprocessing by:\n",
    "* Adding Technical Indicators to the data. The technical inicators are used as inputs in the training of our Reinforcement Learning Model\n",
    "* Adding Coveriance Matrices which is also used as input for training the Models\n",
    "* Splitting the data into the training set and the testing (trading) set"
   ]
  },
  {
   "cell_type": "markdown",
   "metadata": {},
   "source": [
    "### 4.1 Import Relevant Libraries"
   ]
  },
  {
   "cell_type": "code",
   "execution_count": 1,
   "metadata": {},
   "outputs": [
    {
     "name": "stdout",
     "output_type": "stream",
     "text": [
      "Requirement already satisfied: finrl in /Library/Frameworks/Python.framework/Versions/3.10/lib/python3.10/site-packages (0.3.6)\n",
      "Collecting elegantrl@ git+https://github.com/AI4Finance-Foundation/ElegantRL.git#egg=elegantrl (from finrl)\n",
      "  Cloning https://github.com/AI4Finance-Foundation/ElegantRL.git to /private/var/folders/3z/6b2hp23s5sg2j9x4jt4hyh_80000gn/T/pip-install-cgunax9y/elegantrl_40b5efc8997f43cd8308bc93839699ed\n",
      "  Running command git clone --quiet https://github.com/AI4Finance-Foundation/ElegantRL.git /private/var/folders/3z/6b2hp23s5sg2j9x4jt4hyh_80000gn/T/pip-install-cgunax9y/elegantrl_40b5efc8997f43cd8308bc93839699ed\n",
      "  Resolved https://github.com/AI4Finance-Foundation/ElegantRL.git to commit b64df20f552477f24ec50c3e5088c1e241fdc455\n",
      "  Preparing metadata (setup.py) ... \u001b[?25ldone\n",
      "\u001b[?25hRequirement already satisfied: alpaca-trade-api<4,>=3 in /Library/Frameworks/Python.framework/Versions/3.10/lib/python3.10/site-packages (from finrl) (3.2.0)\n",
      "Requirement already satisfied: ccxt<4,>=3 in /Library/Frameworks/Python.framework/Versions/3.10/lib/python3.10/site-packages (from finrl) (3.1.60)\n",
      "Requirement already satisfied: exchange-calendars<5,>=4 in /Library/Frameworks/Python.framework/Versions/3.10/lib/python3.10/site-packages (from finrl) (4.5.3)\n",
      "Requirement already satisfied: jqdatasdk<2,>=1 in /Library/Frameworks/Python.framework/Versions/3.10/lib/python3.10/site-packages (from finrl) (1.9.3)\n",
      "Requirement already satisfied: pyfolio<0.10,>=0.9 in /Library/Frameworks/Python.framework/Versions/3.10/lib/python3.10/site-packages (from finrl) (0.9.2+75.g4b901f6)\n",
      "Requirement already satisfied: pyportfolioopt<2,>=1 in /Library/Frameworks/Python.framework/Versions/3.10/lib/python3.10/site-packages (from finrl) (1.5.5)\n",
      "Requirement already satisfied: ray<3,>=2 in /Library/Frameworks/Python.framework/Versions/3.10/lib/python3.10/site-packages (from ray[default,tune]<3,>=2->finrl) (2.10.0)\n",
      "Requirement already satisfied: scikit-learn<2,>=1 in /Library/Frameworks/Python.framework/Versions/3.10/lib/python3.10/site-packages (from finrl) (1.4.1.post1)\n",
      "Requirement already satisfied: stable-baselines3>=2.0.0a5 in /Library/Frameworks/Python.framework/Versions/3.10/lib/python3.10/site-packages (from stable-baselines3[extra]>=2.0.0a5->finrl) (2.3.0a4)\n",
      "Requirement already satisfied: stockstats<0.6,>=0.5 in /Library/Frameworks/Python.framework/Versions/3.10/lib/python3.10/site-packages (from finrl) (0.5.4)\n",
      "Requirement already satisfied: wrds<4,>=3 in /Library/Frameworks/Python.framework/Versions/3.10/lib/python3.10/site-packages (from finrl) (3.2.0)\n",
      "Requirement already satisfied: yfinance<0.3,>=0.2 in /Library/Frameworks/Python.framework/Versions/3.10/lib/python3.10/site-packages (from finrl) (0.2.37)\n",
      "Requirement already satisfied: pandas>=0.18.1 in /Library/Frameworks/Python.framework/Versions/3.10/lib/python3.10/site-packages (from alpaca-trade-api<4,>=3->finrl) (2.2.1)\n",
      "Requirement already satisfied: numpy>=1.11.1 in /Library/Frameworks/Python.framework/Versions/3.10/lib/python3.10/site-packages (from alpaca-trade-api<4,>=3->finrl) (1.26.4)\n",
      "Requirement already satisfied: requests<3,>2 in /Library/Frameworks/Python.framework/Versions/3.10/lib/python3.10/site-packages (from alpaca-trade-api<4,>=3->finrl) (2.31.0)\n",
      "Requirement already satisfied: urllib3<2,>1.24 in /Library/Frameworks/Python.framework/Versions/3.10/lib/python3.10/site-packages (from alpaca-trade-api<4,>=3->finrl) (1.26.18)\n",
      "Requirement already satisfied: websocket-client<2,>=0.56.0 in /Library/Frameworks/Python.framework/Versions/3.10/lib/python3.10/site-packages (from alpaca-trade-api<4,>=3->finrl) (1.7.0)\n",
      "Requirement already satisfied: websockets<11,>=9.0 in /Library/Frameworks/Python.framework/Versions/3.10/lib/python3.10/site-packages (from alpaca-trade-api<4,>=3->finrl) (10.4)\n",
      "Requirement already satisfied: msgpack==1.0.3 in /Library/Frameworks/Python.framework/Versions/3.10/lib/python3.10/site-packages (from alpaca-trade-api<4,>=3->finrl) (1.0.3)\n",
      "Requirement already satisfied: aiohttp<4,>=3.8.3 in /Library/Frameworks/Python.framework/Versions/3.10/lib/python3.10/site-packages (from alpaca-trade-api<4,>=3->finrl) (3.9.3)\n",
      "Requirement already satisfied: PyYAML==6.0.1 in /Library/Frameworks/Python.framework/Versions/3.10/lib/python3.10/site-packages (from alpaca-trade-api<4,>=3->finrl) (6.0.1)\n",
      "Requirement already satisfied: deprecation==2.1.0 in /Library/Frameworks/Python.framework/Versions/3.10/lib/python3.10/site-packages (from alpaca-trade-api<4,>=3->finrl) (2.1.0)\n",
      "Requirement already satisfied: packaging in /Library/Frameworks/Python.framework/Versions/3.10/lib/python3.10/site-packages (from deprecation==2.1.0->alpaca-trade-api<4,>=3->finrl) (23.2)\n",
      "Requirement already satisfied: setuptools>=60.9.0 in /Library/Frameworks/Python.framework/Versions/3.10/lib/python3.10/site-packages (from ccxt<4,>=3->finrl) (69.2.0)\n",
      "Requirement already satisfied: certifi>=2018.1.18 in /Library/Frameworks/Python.framework/Versions/3.10/lib/python3.10/site-packages (from ccxt<4,>=3->finrl) (2024.2.2)\n",
      "Requirement already satisfied: cryptography>=2.6.1 in /Library/Frameworks/Python.framework/Versions/3.10/lib/python3.10/site-packages (from ccxt<4,>=3->finrl) (42.0.5)\n",
      "Requirement already satisfied: aiodns>=1.1.1 in /Library/Frameworks/Python.framework/Versions/3.10/lib/python3.10/site-packages (from ccxt<4,>=3->finrl) (3.1.1)\n",
      "Requirement already satisfied: yarl>=1.7.2 in /Library/Frameworks/Python.framework/Versions/3.10/lib/python3.10/site-packages (from ccxt<4,>=3->finrl) (1.9.4)\n",
      "Requirement already satisfied: pyluach in /Library/Frameworks/Python.framework/Versions/3.10/lib/python3.10/site-packages (from exchange-calendars<5,>=4->finrl) (2.2.0)\n",
      "Requirement already satisfied: toolz in /Library/Frameworks/Python.framework/Versions/3.10/lib/python3.10/site-packages (from exchange-calendars<5,>=4->finrl) (0.12.1)\n",
      "Requirement already satisfied: tzdata in /Library/Frameworks/Python.framework/Versions/3.10/lib/python3.10/site-packages (from exchange-calendars<5,>=4->finrl) (2024.1)\n",
      "Requirement already satisfied: korean-lunar-calendar in /Library/Frameworks/Python.framework/Versions/3.10/lib/python3.10/site-packages (from exchange-calendars<5,>=4->finrl) (0.3.1)\n",
      "Requirement already satisfied: six in /Users/kshama/Library/Python/3.10/lib/python/site-packages (from jqdatasdk<2,>=1->finrl) (1.16.0)\n",
      "Requirement already satisfied: SQLAlchemy>=1.2.8 in /Library/Frameworks/Python.framework/Versions/3.10/lib/python3.10/site-packages (from jqdatasdk<2,>=1->finrl) (2.0.29)\n",
      "Requirement already satisfied: thriftpy2>=0.3.9 in /Library/Frameworks/Python.framework/Versions/3.10/lib/python3.10/site-packages (from jqdatasdk<2,>=1->finrl) (0.4.20)\n",
      "Requirement already satisfied: pymysql>=0.7.6 in /Library/Frameworks/Python.framework/Versions/3.10/lib/python3.10/site-packages (from jqdatasdk<2,>=1->finrl) (1.1.0)\n",
      "Requirement already satisfied: ipython>=3.2.3 in /Users/kshama/Library/Python/3.10/lib/python/site-packages (from pyfolio<0.10,>=0.9->finrl) (8.22.2)\n",
      "Requirement already satisfied: matplotlib>=1.4.0 in /Library/Frameworks/Python.framework/Versions/3.10/lib/python3.10/site-packages (from pyfolio<0.10,>=0.9->finrl) (3.8.3)\n",
      "Requirement already satisfied: pytz>=2014.10 in /Library/Frameworks/Python.framework/Versions/3.10/lib/python3.10/site-packages (from pyfolio<0.10,>=0.9->finrl) (2024.1)\n",
      "Requirement already satisfied: scipy>=0.14.0 in /Library/Frameworks/Python.framework/Versions/3.10/lib/python3.10/site-packages (from pyfolio<0.10,>=0.9->finrl) (1.12.0)\n",
      "Requirement already satisfied: seaborn>=0.7.1 in /Library/Frameworks/Python.framework/Versions/3.10/lib/python3.10/site-packages (from pyfolio<0.10,>=0.9->finrl) (0.13.2)\n",
      "Requirement already satisfied: empyrical>=0.5.0 in /Library/Frameworks/Python.framework/Versions/3.10/lib/python3.10/site-packages (from pyfolio<0.10,>=0.9->finrl) (0.5.5)\n",
      "Requirement already satisfied: cvxpy<2.0.0,>=1.1.19 in /Library/Frameworks/Python.framework/Versions/3.10/lib/python3.10/site-packages (from pyportfolioopt<2,>=1->finrl) (1.4.2)\n",
      "Requirement already satisfied: click>=7.0 in /Library/Frameworks/Python.framework/Versions/3.10/lib/python3.10/site-packages (from ray<3,>=2->ray[default,tune]<3,>=2->finrl) (8.1.7)\n",
      "Requirement already satisfied: filelock in /Library/Frameworks/Python.framework/Versions/3.10/lib/python3.10/site-packages (from ray<3,>=2->ray[default,tune]<3,>=2->finrl) (3.13.3)\n",
      "Requirement already satisfied: jsonschema in /Library/Frameworks/Python.framework/Versions/3.10/lib/python3.10/site-packages (from ray<3,>=2->ray[default,tune]<3,>=2->finrl) (4.21.1)\n",
      "Requirement already satisfied: protobuf!=3.19.5,>=3.15.3 in /Library/Frameworks/Python.framework/Versions/3.10/lib/python3.10/site-packages (from ray<3,>=2->ray[default,tune]<3,>=2->finrl) (4.25.3)\n",
      "Requirement already satisfied: aiosignal in /Library/Frameworks/Python.framework/Versions/3.10/lib/python3.10/site-packages (from ray<3,>=2->ray[default,tune]<3,>=2->finrl) (1.3.1)\n",
      "Requirement already satisfied: frozenlist in /Library/Frameworks/Python.framework/Versions/3.10/lib/python3.10/site-packages (from ray<3,>=2->ray[default,tune]<3,>=2->finrl) (1.4.1)\n",
      "Requirement already satisfied: aiohttp-cors in /Library/Frameworks/Python.framework/Versions/3.10/lib/python3.10/site-packages (from ray[default,tune]<3,>=2->finrl) (0.7.0)\n",
      "Requirement already satisfied: colorful in /Library/Frameworks/Python.framework/Versions/3.10/lib/python3.10/site-packages (from ray[default,tune]<3,>=2->finrl) (0.5.6)\n",
      "Requirement already satisfied: py-spy>=0.2.0 in /Library/Frameworks/Python.framework/Versions/3.10/lib/python3.10/site-packages (from ray[default,tune]<3,>=2->finrl) (0.3.14)\n",
      "Requirement already satisfied: opencensus in /Library/Frameworks/Python.framework/Versions/3.10/lib/python3.10/site-packages (from ray[default,tune]<3,>=2->finrl) (0.11.4)\n",
      "Requirement already satisfied: pydantic!=2.0.*,!=2.1.*,!=2.2.*,!=2.3.*,!=2.4.*,<3 in /Library/Frameworks/Python.framework/Versions/3.10/lib/python3.10/site-packages (from ray[default,tune]<3,>=2->finrl) (2.6.4)\n",
      "Requirement already satisfied: prometheus-client>=0.7.1 in /Library/Frameworks/Python.framework/Versions/3.10/lib/python3.10/site-packages (from ray[default,tune]<3,>=2->finrl) (0.20.0)\n",
      "Requirement already satisfied: smart-open in /Library/Frameworks/Python.framework/Versions/3.10/lib/python3.10/site-packages (from ray[default,tune]<3,>=2->finrl) (7.0.4)\n",
      "Requirement already satisfied: virtualenv!=20.21.1,>=20.0.24 in /Library/Frameworks/Python.framework/Versions/3.10/lib/python3.10/site-packages (from ray[default,tune]<3,>=2->finrl) (20.25.1)\n",
      "Requirement already satisfied: grpcio>=1.42.0 in /Library/Frameworks/Python.framework/Versions/3.10/lib/python3.10/site-packages (from ray[default,tune]<3,>=2->finrl) (1.62.1)\n",
      "Requirement already satisfied: tensorboardX>=1.9 in /Library/Frameworks/Python.framework/Versions/3.10/lib/python3.10/site-packages (from ray[default,tune]<3,>=2->finrl) (2.6.2.2)\n",
      "Requirement already satisfied: pyarrow>=6.0.1 in /Library/Frameworks/Python.framework/Versions/3.10/lib/python3.10/site-packages (from ray[default,tune]<3,>=2->finrl) (15.0.2)\n",
      "Requirement already satisfied: fsspec in /Library/Frameworks/Python.framework/Versions/3.10/lib/python3.10/site-packages (from ray[default,tune]<3,>=2->finrl) (2024.3.1)\n",
      "Requirement already satisfied: joblib>=1.2.0 in /Library/Frameworks/Python.framework/Versions/3.10/lib/python3.10/site-packages (from scikit-learn<2,>=1->finrl) (1.3.2)\n",
      "Requirement already satisfied: threadpoolctl>=2.0.0 in /Library/Frameworks/Python.framework/Versions/3.10/lib/python3.10/site-packages (from scikit-learn<2,>=1->finrl) (3.4.0)\n",
      "Requirement already satisfied: gymnasium<0.30,>=0.28.1 in /Library/Frameworks/Python.framework/Versions/3.10/lib/python3.10/site-packages (from stable-baselines3>=2.0.0a5->stable-baselines3[extra]>=2.0.0a5->finrl) (0.29.1)\n",
      "Requirement already satisfied: torch>=1.13 in /Library/Frameworks/Python.framework/Versions/3.10/lib/python3.10/site-packages (from stable-baselines3>=2.0.0a5->stable-baselines3[extra]>=2.0.0a5->finrl) (2.2.2)\n",
      "Requirement already satisfied: cloudpickle in /Library/Frameworks/Python.framework/Versions/3.10/lib/python3.10/site-packages (from stable-baselines3>=2.0.0a5->stable-baselines3[extra]>=2.0.0a5->finrl) (3.0.0)\n",
      "Requirement already satisfied: opencv-python in /Library/Frameworks/Python.framework/Versions/3.10/lib/python3.10/site-packages (from stable-baselines3[extra]>=2.0.0a5->finrl) (4.9.0.80)\n",
      "Requirement already satisfied: pygame in /Library/Frameworks/Python.framework/Versions/3.10/lib/python3.10/site-packages (from stable-baselines3[extra]>=2.0.0a5->finrl) (2.1.0)\n",
      "Requirement already satisfied: tensorboard>=2.9.1 in /Library/Frameworks/Python.framework/Versions/3.10/lib/python3.10/site-packages (from stable-baselines3[extra]>=2.0.0a5->finrl) (2.16.2)\n",
      "Requirement already satisfied: psutil in /Users/kshama/Library/Python/3.10/lib/python/site-packages (from stable-baselines3[extra]>=2.0.0a5->finrl) (5.9.8)\n",
      "Requirement already satisfied: tqdm in /Library/Frameworks/Python.framework/Versions/3.10/lib/python3.10/site-packages (from stable-baselines3[extra]>=2.0.0a5->finrl) (4.66.2)\n",
      "Requirement already satisfied: rich in /Library/Frameworks/Python.framework/Versions/3.10/lib/python3.10/site-packages (from stable-baselines3[extra]>=2.0.0a5->finrl) (13.7.1)\n",
      "Requirement already satisfied: shimmy~=1.3.0 in /Library/Frameworks/Python.framework/Versions/3.10/lib/python3.10/site-packages (from shimmy[atari]~=1.3.0; extra == \"extra\"->stable-baselines3[extra]>=2.0.0a5->finrl) (1.3.0)\n",
      "Requirement already satisfied: pillow in /Library/Frameworks/Python.framework/Versions/3.10/lib/python3.10/site-packages (from stable-baselines3[extra]>=2.0.0a5->finrl) (10.2.0)\n",
      "Requirement already satisfied: autorom~=0.6.1 in /Library/Frameworks/Python.framework/Versions/3.10/lib/python3.10/site-packages (from autorom[accept-rom-license]~=0.6.1; extra == \"extra\"->stable-baselines3[extra]>=2.0.0a5->finrl) (0.6.1)\n",
      "Requirement already satisfied: psycopg2-binary<2.10,>=2.9 in /Library/Frameworks/Python.framework/Versions/3.10/lib/python3.10/site-packages (from wrds<4,>=3->finrl) (2.9.9)\n",
      "Requirement already satisfied: multitasking>=0.0.7 in /Library/Frameworks/Python.framework/Versions/3.10/lib/python3.10/site-packages (from yfinance<0.3,>=0.2->finrl) (0.0.11)\n",
      "Requirement already satisfied: lxml>=4.9.1 in /Library/Frameworks/Python.framework/Versions/3.10/lib/python3.10/site-packages (from yfinance<0.3,>=0.2->finrl) (5.1.0)\n",
      "Requirement already satisfied: appdirs>=1.4.4 in /Library/Frameworks/Python.framework/Versions/3.10/lib/python3.10/site-packages (from yfinance<0.3,>=0.2->finrl) (1.4.4)\n",
      "Requirement already satisfied: frozendict>=2.3.4 in /Library/Frameworks/Python.framework/Versions/3.10/lib/python3.10/site-packages (from yfinance<0.3,>=0.2->finrl) (2.4.0)\n",
      "Requirement already satisfied: peewee>=3.16.2 in /Library/Frameworks/Python.framework/Versions/3.10/lib/python3.10/site-packages (from yfinance<0.3,>=0.2->finrl) (3.17.1)\n",
      "Requirement already satisfied: beautifulsoup4>=4.11.1 in /Library/Frameworks/Python.framework/Versions/3.10/lib/python3.10/site-packages (from yfinance<0.3,>=0.2->finrl) (4.12.3)\n",
      "Requirement already satisfied: html5lib>=1.1 in /Library/Frameworks/Python.framework/Versions/3.10/lib/python3.10/site-packages (from yfinance<0.3,>=0.2->finrl) (1.1)\n",
      "Requirement already satisfied: gym in /Library/Frameworks/Python.framework/Versions/3.10/lib/python3.10/site-packages (from elegantrl@ git+https://github.com/AI4Finance-Foundation/ElegantRL.git#egg=elegantrl->finrl) (0.26.2)\n",
      "Requirement already satisfied: pycares>=4.0.0 in /Library/Frameworks/Python.framework/Versions/3.10/lib/python3.10/site-packages (from aiodns>=1.1.1->ccxt<4,>=3->finrl) (4.4.0)\n",
      "Requirement already satisfied: attrs>=17.3.0 in /Library/Frameworks/Python.framework/Versions/3.10/lib/python3.10/site-packages (from aiohttp<4,>=3.8.3->alpaca-trade-api<4,>=3->finrl) (23.2.0)\n",
      "Requirement already satisfied: multidict<7.0,>=4.5 in /Library/Frameworks/Python.framework/Versions/3.10/lib/python3.10/site-packages (from aiohttp<4,>=3.8.3->alpaca-trade-api<4,>=3->finrl) (6.0.5)\n",
      "Requirement already satisfied: async-timeout<5.0,>=4.0 in /Library/Frameworks/Python.framework/Versions/3.10/lib/python3.10/site-packages (from aiohttp<4,>=3.8.3->alpaca-trade-api<4,>=3->finrl) (4.0.3)\n",
      "Requirement already satisfied: AutoROM.accept-rom-license in /Library/Frameworks/Python.framework/Versions/3.10/lib/python3.10/site-packages (from autorom[accept-rom-license]~=0.6.1; extra == \"extra\"->stable-baselines3[extra]>=2.0.0a5->finrl) (0.6.1)\n",
      "Requirement already satisfied: soupsieve>1.2 in /Library/Frameworks/Python.framework/Versions/3.10/lib/python3.10/site-packages (from beautifulsoup4>=4.11.1->yfinance<0.3,>=0.2->finrl) (2.5)\n",
      "Requirement already satisfied: cffi>=1.12 in /Library/Frameworks/Python.framework/Versions/3.10/lib/python3.10/site-packages (from cryptography>=2.6.1->ccxt<4,>=3->finrl) (1.16.0)\n",
      "Requirement already satisfied: osqp>=0.6.2 in /Library/Frameworks/Python.framework/Versions/3.10/lib/python3.10/site-packages (from cvxpy<2.0.0,>=1.1.19->pyportfolioopt<2,>=1->finrl) (0.6.4)\n",
      "Requirement already satisfied: ecos>=2 in /Library/Frameworks/Python.framework/Versions/3.10/lib/python3.10/site-packages (from cvxpy<2.0.0,>=1.1.19->pyportfolioopt<2,>=1->finrl) (2.0.13)\n",
      "Requirement already satisfied: clarabel>=0.5.0 in /Library/Frameworks/Python.framework/Versions/3.10/lib/python3.10/site-packages (from cvxpy<2.0.0,>=1.1.19->pyportfolioopt<2,>=1->finrl) (0.7.1)\n",
      "Requirement already satisfied: scs>=3.0 in /Library/Frameworks/Python.framework/Versions/3.10/lib/python3.10/site-packages (from cvxpy<2.0.0,>=1.1.19->pyportfolioopt<2,>=1->finrl) (3.2.4.post1)\n",
      "Requirement already satisfied: pybind11 in /Library/Frameworks/Python.framework/Versions/3.10/lib/python3.10/site-packages (from cvxpy<2.0.0,>=1.1.19->pyportfolioopt<2,>=1->finrl) (2.12.0)\n",
      "Requirement already satisfied: pandas-datareader>=0.2 in /Library/Frameworks/Python.framework/Versions/3.10/lib/python3.10/site-packages (from empyrical>=0.5.0->pyfolio<0.10,>=0.9->finrl) (0.10.0)\n",
      "Requirement already satisfied: typing-extensions>=4.3.0 in /Library/Frameworks/Python.framework/Versions/3.10/lib/python3.10/site-packages (from gymnasium<0.30,>=0.28.1->stable-baselines3>=2.0.0a5->stable-baselines3[extra]>=2.0.0a5->finrl) (4.10.0)\n",
      "Requirement already satisfied: farama-notifications>=0.0.1 in /Library/Frameworks/Python.framework/Versions/3.10/lib/python3.10/site-packages (from gymnasium<0.30,>=0.28.1->stable-baselines3>=2.0.0a5->stable-baselines3[extra]>=2.0.0a5->finrl) (0.0.4)\n",
      "Requirement already satisfied: webencodings in /Library/Frameworks/Python.framework/Versions/3.10/lib/python3.10/site-packages (from html5lib>=1.1->yfinance<0.3,>=0.2->finrl) (0.5.1)\n",
      "Requirement already satisfied: decorator in /Users/kshama/Library/Python/3.10/lib/python/site-packages (from ipython>=3.2.3->pyfolio<0.10,>=0.9->finrl) (5.1.1)\n",
      "Requirement already satisfied: jedi>=0.16 in /Users/kshama/Library/Python/3.10/lib/python/site-packages (from ipython>=3.2.3->pyfolio<0.10,>=0.9->finrl) (0.19.1)\n",
      "Requirement already satisfied: matplotlib-inline in /Users/kshama/Library/Python/3.10/lib/python/site-packages (from ipython>=3.2.3->pyfolio<0.10,>=0.9->finrl) (0.1.6)\n",
      "Requirement already satisfied: prompt-toolkit<3.1.0,>=3.0.41 in /Users/kshama/Library/Python/3.10/lib/python/site-packages (from ipython>=3.2.3->pyfolio<0.10,>=0.9->finrl) (3.0.43)\n",
      "Requirement already satisfied: pygments>=2.4.0 in /Users/kshama/Library/Python/3.10/lib/python/site-packages (from ipython>=3.2.3->pyfolio<0.10,>=0.9->finrl) (2.17.2)\n",
      "Requirement already satisfied: stack-data in /Users/kshama/Library/Python/3.10/lib/python/site-packages (from ipython>=3.2.3->pyfolio<0.10,>=0.9->finrl) (0.6.3)\n",
      "Requirement already satisfied: traitlets>=5.13.0 in /Users/kshama/Library/Python/3.10/lib/python/site-packages (from ipython>=3.2.3->pyfolio<0.10,>=0.9->finrl) (5.14.2)\n",
      "Requirement already satisfied: exceptiongroup in /Users/kshama/Library/Python/3.10/lib/python/site-packages (from ipython>=3.2.3->pyfolio<0.10,>=0.9->finrl) (1.2.0)\n",
      "Requirement already satisfied: pexpect>4.3 in /Users/kshama/Library/Python/3.10/lib/python/site-packages (from ipython>=3.2.3->pyfolio<0.10,>=0.9->finrl) (4.9.0)\n",
      "Requirement already satisfied: contourpy>=1.0.1 in /Library/Frameworks/Python.framework/Versions/3.10/lib/python3.10/site-packages (from matplotlib>=1.4.0->pyfolio<0.10,>=0.9->finrl) (1.2.0)\n",
      "Requirement already satisfied: cycler>=0.10 in /Library/Frameworks/Python.framework/Versions/3.10/lib/python3.10/site-packages (from matplotlib>=1.4.0->pyfolio<0.10,>=0.9->finrl) (0.12.1)\n",
      "Requirement already satisfied: fonttools>=4.22.0 in /Library/Frameworks/Python.framework/Versions/3.10/lib/python3.10/site-packages (from matplotlib>=1.4.0->pyfolio<0.10,>=0.9->finrl) (4.50.0)\n",
      "Requirement already satisfied: kiwisolver>=1.3.1 in /Library/Frameworks/Python.framework/Versions/3.10/lib/python3.10/site-packages (from matplotlib>=1.4.0->pyfolio<0.10,>=0.9->finrl) (1.4.5)\n",
      "Requirement already satisfied: pyparsing>=2.3.1 in /Library/Frameworks/Python.framework/Versions/3.10/lib/python3.10/site-packages (from matplotlib>=1.4.0->pyfolio<0.10,>=0.9->finrl) (3.1.2)\n",
      "Requirement already satisfied: python-dateutil>=2.7 in /Users/kshama/Library/Python/3.10/lib/python/site-packages (from matplotlib>=1.4.0->pyfolio<0.10,>=0.9->finrl) (2.9.0.post0)\n",
      "Requirement already satisfied: annotated-types>=0.4.0 in /Library/Frameworks/Python.framework/Versions/3.10/lib/python3.10/site-packages (from pydantic!=2.0.*,!=2.1.*,!=2.2.*,!=2.3.*,!=2.4.*,<3->ray[default,tune]<3,>=2->finrl) (0.6.0)\n",
      "Requirement already satisfied: pydantic-core==2.16.3 in /Library/Frameworks/Python.framework/Versions/3.10/lib/python3.10/site-packages (from pydantic!=2.0.*,!=2.1.*,!=2.2.*,!=2.3.*,!=2.4.*,<3->ray[default,tune]<3,>=2->finrl) (2.16.3)\n",
      "Requirement already satisfied: charset-normalizer<4,>=2 in /Library/Frameworks/Python.framework/Versions/3.10/lib/python3.10/site-packages (from requests<3,>2->alpaca-trade-api<4,>=3->finrl) (3.3.2)\n",
      "Requirement already satisfied: idna<4,>=2.5 in /Library/Frameworks/Python.framework/Versions/3.10/lib/python3.10/site-packages (from requests<3,>2->alpaca-trade-api<4,>=3->finrl) (3.6)\n",
      "Requirement already satisfied: ale-py~=0.8.1 in /Library/Frameworks/Python.framework/Versions/3.10/lib/python3.10/site-packages (from shimmy[atari]~=1.3.0; extra == \"extra\"->stable-baselines3[extra]>=2.0.0a5->finrl) (0.8.1)\n",
      "Requirement already satisfied: absl-py>=0.4 in /Library/Frameworks/Python.framework/Versions/3.10/lib/python3.10/site-packages (from tensorboard>=2.9.1->stable-baselines3[extra]>=2.0.0a5->finrl) (2.1.0)\n",
      "Requirement already satisfied: markdown>=2.6.8 in /Library/Frameworks/Python.framework/Versions/3.10/lib/python3.10/site-packages (from tensorboard>=2.9.1->stable-baselines3[extra]>=2.0.0a5->finrl) (3.6)\n",
      "Requirement already satisfied: tensorboard-data-server<0.8.0,>=0.7.0 in /Library/Frameworks/Python.framework/Versions/3.10/lib/python3.10/site-packages (from tensorboard>=2.9.1->stable-baselines3[extra]>=2.0.0a5->finrl) (0.7.2)\n",
      "Requirement already satisfied: werkzeug>=1.0.1 in /Library/Frameworks/Python.framework/Versions/3.10/lib/python3.10/site-packages (from tensorboard>=2.9.1->stable-baselines3[extra]>=2.0.0a5->finrl) (3.0.1)\n",
      "Requirement already satisfied: ply<4.0,>=3.4 in /Library/Frameworks/Python.framework/Versions/3.10/lib/python3.10/site-packages (from thriftpy2>=0.3.9->jqdatasdk<2,>=1->finrl) (3.11)\n",
      "Requirement already satisfied: sympy in /Library/Frameworks/Python.framework/Versions/3.10/lib/python3.10/site-packages (from torch>=1.13->stable-baselines3>=2.0.0a5->stable-baselines3[extra]>=2.0.0a5->finrl) (1.12)\n",
      "Requirement already satisfied: networkx in /Library/Frameworks/Python.framework/Versions/3.10/lib/python3.10/site-packages (from torch>=1.13->stable-baselines3>=2.0.0a5->stable-baselines3[extra]>=2.0.0a5->finrl) (3.2.1)\n",
      "Requirement already satisfied: jinja2 in /Library/Frameworks/Python.framework/Versions/3.10/lib/python3.10/site-packages (from torch>=1.13->stable-baselines3>=2.0.0a5->stable-baselines3[extra]>=2.0.0a5->finrl) (3.1.3)\n",
      "Requirement already satisfied: distlib<1,>=0.3.7 in /Library/Frameworks/Python.framework/Versions/3.10/lib/python3.10/site-packages (from virtualenv!=20.21.1,>=20.0.24->ray[default,tune]<3,>=2->finrl) (0.3.8)\n",
      "Requirement already satisfied: platformdirs<5,>=3.9.1 in /Users/kshama/Library/Python/3.10/lib/python/site-packages (from virtualenv!=20.21.1,>=20.0.24->ray[default,tune]<3,>=2->finrl) (4.2.0)\n",
      "Requirement already satisfied: gym-notices>=0.0.4 in /Library/Frameworks/Python.framework/Versions/3.10/lib/python3.10/site-packages (from gym->elegantrl@ git+https://github.com/AI4Finance-Foundation/ElegantRL.git#egg=elegantrl->finrl) (0.0.8)\n",
      "Requirement already satisfied: box2d-py==2.3.5 in /Library/Frameworks/Python.framework/Versions/3.10/lib/python3.10/site-packages (from gym[box2d]->elegantrl@ git+https://github.com/AI4Finance-Foundation/ElegantRL.git#egg=elegantrl->finrl) (2.3.5)\n",
      "Requirement already satisfied: swig==4.* in /Library/Frameworks/Python.framework/Versions/3.10/lib/python3.10/site-packages (from gym[box2d]->elegantrl@ git+https://github.com/AI4Finance-Foundation/ElegantRL.git#egg=elegantrl->finrl) (4.2.1)\n",
      "Requirement already satisfied: jsonschema-specifications>=2023.03.6 in /Library/Frameworks/Python.framework/Versions/3.10/lib/python3.10/site-packages (from jsonschema->ray<3,>=2->ray[default,tune]<3,>=2->finrl) (2023.12.1)\n",
      "Requirement already satisfied: referencing>=0.28.4 in /Library/Frameworks/Python.framework/Versions/3.10/lib/python3.10/site-packages (from jsonschema->ray<3,>=2->ray[default,tune]<3,>=2->finrl) (0.34.0)\n",
      "Requirement already satisfied: rpds-py>=0.7.1 in /Library/Frameworks/Python.framework/Versions/3.10/lib/python3.10/site-packages (from jsonschema->ray<3,>=2->ray[default,tune]<3,>=2->finrl) (0.18.0)\n",
      "Requirement already satisfied: opencensus-context>=0.1.3 in /Library/Frameworks/Python.framework/Versions/3.10/lib/python3.10/site-packages (from opencensus->ray[default,tune]<3,>=2->finrl) (0.1.3)\n",
      "Requirement already satisfied: google-api-core<3.0.0,>=1.0.0 in /Library/Frameworks/Python.framework/Versions/3.10/lib/python3.10/site-packages (from opencensus->ray[default,tune]<3,>=2->finrl) (2.18.0)\n",
      "Requirement already satisfied: markdown-it-py>=2.2.0 in /Library/Frameworks/Python.framework/Versions/3.10/lib/python3.10/site-packages (from rich->stable-baselines3[extra]>=2.0.0a5->finrl) (3.0.0)\n",
      "Requirement already satisfied: wrapt in /Library/Frameworks/Python.framework/Versions/3.10/lib/python3.10/site-packages (from smart-open->ray[default,tune]<3,>=2->finrl) (1.16.0)\n",
      "Requirement already satisfied: importlib-resources in /Library/Frameworks/Python.framework/Versions/3.10/lib/python3.10/site-packages (from ale-py~=0.8.1->shimmy[atari]~=1.3.0; extra == \"extra\"->stable-baselines3[extra]>=2.0.0a5->finrl) (6.4.0)\n",
      "Requirement already satisfied: pycparser in /Library/Frameworks/Python.framework/Versions/3.10/lib/python3.10/site-packages (from cffi>=1.12->cryptography>=2.6.1->ccxt<4,>=3->finrl) (2.21)\n",
      "Requirement already satisfied: googleapis-common-protos<2.0.dev0,>=1.56.2 in /Library/Frameworks/Python.framework/Versions/3.10/lib/python3.10/site-packages (from google-api-core<3.0.0,>=1.0.0->opencensus->ray[default,tune]<3,>=2->finrl) (1.63.0)\n",
      "Requirement already satisfied: proto-plus<2.0.0dev,>=1.22.3 in /Library/Frameworks/Python.framework/Versions/3.10/lib/python3.10/site-packages (from google-api-core<3.0.0,>=1.0.0->opencensus->ray[default,tune]<3,>=2->finrl) (1.23.0)\n",
      "Requirement already satisfied: google-auth<3.0.dev0,>=2.14.1 in /Library/Frameworks/Python.framework/Versions/3.10/lib/python3.10/site-packages (from google-api-core<3.0.0,>=1.0.0->opencensus->ray[default,tune]<3,>=2->finrl) (2.29.0)\n",
      "Requirement already satisfied: parso<0.9.0,>=0.8.3 in /Users/kshama/Library/Python/3.10/lib/python/site-packages (from jedi>=0.16->ipython>=3.2.3->pyfolio<0.10,>=0.9->finrl) (0.8.3)\n",
      "Requirement already satisfied: mdurl~=0.1 in /Library/Frameworks/Python.framework/Versions/3.10/lib/python3.10/site-packages (from markdown-it-py>=2.2.0->rich->stable-baselines3[extra]>=2.0.0a5->finrl) (0.1.2)\n",
      "Requirement already satisfied: qdldl in /Library/Frameworks/Python.framework/Versions/3.10/lib/python3.10/site-packages (from osqp>=0.6.2->cvxpy<2.0.0,>=1.1.19->pyportfolioopt<2,>=1->finrl) (0.1.7.post0)\n",
      "Requirement already satisfied: ptyprocess>=0.5 in /Users/kshama/Library/Python/3.10/lib/python/site-packages (from pexpect>4.3->ipython>=3.2.3->pyfolio<0.10,>=0.9->finrl) (0.7.0)\n",
      "Requirement already satisfied: wcwidth in /Users/kshama/Library/Python/3.10/lib/python/site-packages (from prompt-toolkit<3.1.0,>=3.0.41->ipython>=3.2.3->pyfolio<0.10,>=0.9->finrl) (0.2.13)\n",
      "Requirement already satisfied: MarkupSafe>=2.1.1 in /Library/Frameworks/Python.framework/Versions/3.10/lib/python3.10/site-packages (from werkzeug>=1.0.1->tensorboard>=2.9.1->stable-baselines3[extra]>=2.0.0a5->finrl) (2.1.5)\n",
      "Requirement already satisfied: executing>=1.2.0 in /Users/kshama/Library/Python/3.10/lib/python/site-packages (from stack-data->ipython>=3.2.3->pyfolio<0.10,>=0.9->finrl) (2.0.1)\n",
      "Requirement already satisfied: asttokens>=2.1.0 in /Users/kshama/Library/Python/3.10/lib/python/site-packages (from stack-data->ipython>=3.2.3->pyfolio<0.10,>=0.9->finrl) (2.4.1)\n",
      "Requirement already satisfied: pure-eval in /Users/kshama/Library/Python/3.10/lib/python/site-packages (from stack-data->ipython>=3.2.3->pyfolio<0.10,>=0.9->finrl) (0.2.2)\n",
      "Requirement already satisfied: mpmath>=0.19 in /Library/Frameworks/Python.framework/Versions/3.10/lib/python3.10/site-packages (from sympy->torch>=1.13->stable-baselines3>=2.0.0a5->stable-baselines3[extra]>=2.0.0a5->finrl) (1.3.0)\n",
      "Requirement already satisfied: cachetools<6.0,>=2.0.0 in /Library/Frameworks/Python.framework/Versions/3.10/lib/python3.10/site-packages (from google-auth<3.0.dev0,>=2.14.1->google-api-core<3.0.0,>=1.0.0->opencensus->ray[default,tune]<3,>=2->finrl) (5.3.3)\n",
      "Requirement already satisfied: pyasn1-modules>=0.2.1 in /Library/Frameworks/Python.framework/Versions/3.10/lib/python3.10/site-packages (from google-auth<3.0.dev0,>=2.14.1->google-api-core<3.0.0,>=1.0.0->opencensus->ray[default,tune]<3,>=2->finrl) (0.4.0)\n",
      "Requirement already satisfied: rsa<5,>=3.1.4 in /Library/Frameworks/Python.framework/Versions/3.10/lib/python3.10/site-packages (from google-auth<3.0.dev0,>=2.14.1->google-api-core<3.0.0,>=1.0.0->opencensus->ray[default,tune]<3,>=2->finrl) (4.9)\n",
      "Requirement already satisfied: pyasn1<0.7.0,>=0.4.6 in /Library/Frameworks/Python.framework/Versions/3.10/lib/python3.10/site-packages (from pyasn1-modules>=0.2.1->google-auth<3.0.dev0,>=2.14.1->google-api-core<3.0.0,>=1.0.0->opencensus->ray[default,tune]<3,>=2->finrl) (0.6.0)\n",
      "Note: you may need to restart the kernel to use updated packages.\n"
     ]
    }
   ],
   "source": [
    "pip install finrl"
   ]
  },
  {
   "cell_type": "code",
   "execution_count": 2,
   "metadata": {},
   "outputs": [],
   "source": [
    "import pandas as pd\n",
    "import numpy as np\n",
    "import ta\n",
    "from ta import add_all_ta_features\n",
    "from ta.utils import dropna\n",
    "from finrl.meta.preprocessor.preprocessors import data_split\n",
    "from finrl.meta.preprocessor.preprocessors import FeatureEngineer"
   ]
  },
  {
   "cell_type": "markdown",
   "metadata": {},
   "source": [
    "### 4.2 Load the Data from the csv Files"
   ]
  },
  {
   "cell_type": "code",
   "execution_count": 3,
   "metadata": {},
   "outputs": [],
   "source": [
    "# Load the whole data set\n",
    "data = pd.read_csv('./datasets/data.csv')\n",
    "\n",
    "# Load the close prices dataset\n",
    "prices_data = pd.read_csv('./datasets/close_prices.csv')"
   ]
  },
  {
   "cell_type": "code",
   "execution_count": 4,
   "metadata": {},
   "outputs": [
    {
     "name": "stdout",
     "output_type": "stream",
     "text": [
      "Requirement already satisfied: pickleshare in /Library/Frameworks/Python.framework/Versions/3.10/lib/python3.10/site-packages (0.7.5)\n",
      "Note: you may need to restart the kernel to use updated packages.\n"
     ]
    }
   ],
   "source": [
    "pip install pickleshare\n"
   ]
  },
  {
   "cell_type": "code",
   "execution_count": 5,
   "metadata": {},
   "outputs": [
    {
     "name": "stdout",
     "output_type": "stream",
     "text": [
      "Stored variables and their in-db values:\n",
      "df_close_full_stocks             ->             date  BRITANNIA.NS  AXISBANK.NS  TATAS\n",
      "filtered_stocks                  -> Index(['NESTLEIND.NS', 'HDFCBANK.NS', 'HINDUNILVR.\n"
     ]
    }
   ],
   "source": [
    "%store "
   ]
  },
  {
   "cell_type": "code",
   "execution_count": 6,
   "metadata": {},
   "outputs": [],
   "source": [
    "%store -r filtered_stocks"
   ]
  },
  {
   "cell_type": "code",
   "execution_count": 7,
   "metadata": {},
   "outputs": [
    {
     "name": "stdout",
     "output_type": "stream",
     "text": [
      "Index(['NESTLEIND.NS', 'HDFCBANK.NS', 'HINDUNILVR.NS', 'TCS.NS',\n",
      "       'KOTAKBANK.NS', 'HCLTECH.NS', 'WIPRO.NS', 'ASIANPAINT.NS', 'MARUTI.NS',\n",
      "       'TITAN.NS', 'NTPC.NS', 'BAJAJ-AUTO.NS', 'RELIANCE.NS', 'POWERGRID.NS',\n",
      "       'LT.NS', 'ICICIBANK.NS', 'GRASIM.NS', 'ITC.NS', 'SBILIFE.NS',\n",
      "       'HDFCLIFE.NS'],\n",
      "      dtype='object', name='stock_name')\n"
     ]
    }
   ],
   "source": [
    "list_of_stocks = filtered_stocks\n",
    "print(list_of_stocks)"
   ]
  },
  {
   "cell_type": "code",
   "execution_count": 8,
   "metadata": {},
   "outputs": [
    {
     "data": {
      "text/html": [
       "<div>\n",
       "<style scoped>\n",
       "    .dataframe tbody tr th:only-of-type {\n",
       "        vertical-align: middle;\n",
       "    }\n",
       "\n",
       "    .dataframe tbody tr th {\n",
       "        vertical-align: top;\n",
       "    }\n",
       "\n",
       "    .dataframe thead th {\n",
       "        text-align: right;\n",
       "    }\n",
       "</style>\n",
       "<table border=\"1\" class=\"dataframe\">\n",
       "  <thead>\n",
       "    <tr style=\"text-align: right;\">\n",
       "      <th></th>\n",
       "      <th>date</th>\n",
       "      <th>tic</th>\n",
       "      <th>close</th>\n",
       "      <th>high</th>\n",
       "      <th>low</th>\n",
       "      <th>open</th>\n",
       "      <th>volume</th>\n",
       "    </tr>\n",
       "  </thead>\n",
       "  <tbody>\n",
       "    <tr>\n",
       "      <th>0</th>\n",
       "      <td>2018-01-01</td>\n",
       "      <td>POWERGRID.NS</td>\n",
       "      <td>113.484406</td>\n",
       "      <td>111.965652</td>\n",
       "      <td>112.612526</td>\n",
       "      <td>111.965652</td>\n",
       "      <td>6388017</td>\n",
       "    </tr>\n",
       "    <tr>\n",
       "      <th>1</th>\n",
       "      <td>2018-01-02</td>\n",
       "      <td>POWERGRID.NS</td>\n",
       "      <td>113.512527</td>\n",
       "      <td>112.106277</td>\n",
       "      <td>112.921906</td>\n",
       "      <td>113.203156</td>\n",
       "      <td>4383705</td>\n",
       "    </tr>\n",
       "    <tr>\n",
       "      <th>2</th>\n",
       "      <td>2018-01-03</td>\n",
       "      <td>POWERGRID.NS</td>\n",
       "      <td>113.878151</td>\n",
       "      <td>112.837524</td>\n",
       "      <td>113.428154</td>\n",
       "      <td>113.343781</td>\n",
       "      <td>8187397</td>\n",
       "    </tr>\n",
       "    <tr>\n",
       "      <th>3</th>\n",
       "      <td>2018-01-04</td>\n",
       "      <td>POWERGRID.NS</td>\n",
       "      <td>114.103149</td>\n",
       "      <td>112.500031</td>\n",
       "      <td>112.696899</td>\n",
       "      <td>113.625031</td>\n",
       "      <td>4204055</td>\n",
       "    </tr>\n",
       "    <tr>\n",
       "      <th>4</th>\n",
       "      <td>2018-01-05</td>\n",
       "      <td>POWERGRID.NS</td>\n",
       "      <td>113.653152</td>\n",
       "      <td>112.837524</td>\n",
       "      <td>113.203156</td>\n",
       "      <td>113.231277</td>\n",
       "      <td>4923559</td>\n",
       "    </tr>\n",
       "  </tbody>\n",
       "</table>\n",
       "</div>"
      ],
      "text/plain": [
       "         date           tic       close        high         low        open  \\\n",
       "0  2018-01-01  POWERGRID.NS  113.484406  111.965652  112.612526  111.965652   \n",
       "1  2018-01-02  POWERGRID.NS  113.512527  112.106277  112.921906  113.203156   \n",
       "2  2018-01-03  POWERGRID.NS  113.878151  112.837524  113.428154  113.343781   \n",
       "3  2018-01-04  POWERGRID.NS  114.103149  112.500031  112.696899  113.625031   \n",
       "4  2018-01-05  POWERGRID.NS  113.653152  112.837524  113.203156  113.231277   \n",
       "\n",
       "    volume  \n",
       "0  6388017  \n",
       "1  4383705  \n",
       "2  8187397  \n",
       "3  4204055  \n",
       "4  4923559  "
      ]
     },
     "execution_count": 8,
     "metadata": {},
     "output_type": "execute_result"
    }
   ],
   "source": [
    "data.head()"
   ]
  },
  {
   "cell_type": "code",
   "execution_count": 9,
   "metadata": {},
   "outputs": [],
   "source": [
    "data = data[data['tic'].isin(list_of_stocks)]"
   ]
  },
  {
   "cell_type": "code",
   "execution_count": 10,
   "metadata": {},
   "outputs": [
    {
     "data": {
      "text/plain": [
       "array(['POWERGRID.NS', 'GRASIM.NS', 'HDFCLIFE.NS', 'LT.NS', 'TCS.NS',\n",
       "       'SBILIFE.NS', 'BAJAJ-AUTO.NS', 'KOTAKBANK.NS', 'ASIANPAINT.NS',\n",
       "       'WIPRO.NS', 'RELIANCE.NS', 'HINDUNILVR.NS', 'NTPC.NS',\n",
       "       'HDFCBANK.NS', 'ICICIBANK.NS', 'MARUTI.NS', 'TITAN.NS', 'ITC.NS',\n",
       "       'HCLTECH.NS', 'NESTLEIND.NS'], dtype=object)"
      ]
     },
     "execution_count": 10,
     "metadata": {},
     "output_type": "execute_result"
    }
   ],
   "source": [
    "data.tic.unique()"
   ]
  },
  {
   "cell_type": "markdown",
   "metadata": {},
   "source": [
    "### 4.3 Add Technical Indicators\n",
    "---\n",
    "We define a function to add technical indicators to the dataset by making use of the ta library\n",
    "\n",
    "The following indicators are considered:\n",
    "* Volatility Average True Range (ATR)\n",
    "* Volatility Bollinger Band Width (BBW)\n",
    "* Volume On-balance Volume (OBV)\n",
    "* Volume Chaikin Money Flow (CMF)\n",
    "* Trend Moving Average Convergence Divergence (MACD)\n",
    "* Trend Average Directional Index (ADX)\n",
    "* Trend Fast Simple Moving Average (SMA)\n",
    "* Trend Fast Exponential Moving Average (EMA)\n",
    "* Trend Commodity Channel Index (CCI)\n",
    "* Momentum Relative Strength Index (RSI)"
   ]
  },
  {
   "cell_type": "code",
   "execution_count": 11,
   "metadata": {},
   "outputs": [],
   "source": [
    "# Define a Function for adding technical indicators\n",
    "\n",
    "def add_features(data, feature_list, short_names):\n",
    "    \"\"\"\n",
    "    Function to add technical indicators for features\n",
    "    -Takes in a dataset with Open, High, Low, Close and Volume\n",
    "    -Also takes in a list of the technical indicators to be added \n",
    "     as well as a list of the shortened indicator names\n",
    "    \"\"\"\n",
    "    \n",
    "    # list of column names to filter the features\n",
    "    data_col_names = list(data.columns)\n",
    "    filter_names = data_col_names + feature_list\n",
    "    col_rename = data_col_names +  short_names\n",
    "    \n",
    "    # Add technical indicators using the ta Library\n",
    "    data = add_all_ta_features(data, open=\"open\", high=\"high\", \n",
    "    low=\"low\", close=\"close\", volume=\"volume\") \n",
    "    \n",
    "    # Filter the Indicators with the required features\n",
    "    data = data[filter_names]\n",
    "    data.columns = col_rename # rename the columns to use shortened indicator names\n",
    "    data = data.dropna()\n",
    "    \n",
    "    return data"
   ]
  },
  {
   "cell_type": "code",
   "execution_count": 12,
   "metadata": {},
   "outputs": [],
   "source": [
    "# List of Features to add\n",
    "feature_list= ['volatility_atr','volatility_bbw','volume_obv','volume_cmf',\n",
    "               'trend_macd', 'trend_adx', 'trend_sma_fast', \n",
    "               'trend_ema_fast', 'trend_cci', 'momentum_rsi']\n",
    "\n",
    "# Short names of the features\n",
    "short_names = ['atr', 'bbw','obv','cmf','macd', 'adx', 'sma', 'ema', 'cci', 'rsi']\n",
    "\n",
    "#feature_list= ['volatility_atr','volatility_bbw','volume_obv','volume_cmf','trend_macd']\n",
    "\n",
    "# Short names of the features\n",
    "#short_names = ['atr', 'bbw','obv','cmf','macd']"
   ]
  },
  {
   "cell_type": "code",
   "execution_count": 13,
   "metadata": {},
   "outputs": [],
   "source": [
    "# Add Indicators to our dataset\n",
    "data_with_features = data.copy()\n",
    "data_with_features = add_features(data_with_features, feature_list, short_names)"
   ]
  },
  {
   "cell_type": "code",
   "execution_count": 14,
   "metadata": {
    "scrolled": true
   },
   "outputs": [
    {
     "data": {
      "text/html": [
       "<div>\n",
       "<style scoped>\n",
       "    .dataframe tbody tr th:only-of-type {\n",
       "        vertical-align: middle;\n",
       "    }\n",
       "\n",
       "    .dataframe tbody tr th {\n",
       "        vertical-align: top;\n",
       "    }\n",
       "\n",
       "    .dataframe thead th {\n",
       "        text-align: right;\n",
       "    }\n",
       "</style>\n",
       "<table border=\"1\" class=\"dataframe\">\n",
       "  <thead>\n",
       "    <tr style=\"text-align: right;\">\n",
       "      <th></th>\n",
       "      <th>date</th>\n",
       "      <th>tic</th>\n",
       "      <th>close</th>\n",
       "      <th>high</th>\n",
       "      <th>low</th>\n",
       "      <th>open</th>\n",
       "      <th>volume</th>\n",
       "      <th>atr</th>\n",
       "      <th>bbw</th>\n",
       "      <th>obv</th>\n",
       "      <th>cmf</th>\n",
       "      <th>macd</th>\n",
       "      <th>adx</th>\n",
       "      <th>sma</th>\n",
       "      <th>ema</th>\n",
       "      <th>cci</th>\n",
       "      <th>rsi</th>\n",
       "    </tr>\n",
       "  </thead>\n",
       "  <tbody>\n",
       "    <tr>\n",
       "      <th>25</th>\n",
       "      <td>2018-02-06</td>\n",
       "      <td>POWERGRID.NS</td>\n",
       "      <td>110.025024</td>\n",
       "      <td>106.875023</td>\n",
       "      <td>109.659401</td>\n",
       "      <td>106.875023</td>\n",
       "      <td>13495253</td>\n",
       "      <td>2.318797</td>\n",
       "      <td>4.277521</td>\n",
       "      <td>-51293277</td>\n",
       "      <td>-4.375279</td>\n",
       "      <td>-0.846350</td>\n",
       "      <td>0.000000</td>\n",
       "      <td>110.378934</td>\n",
       "      <td>110.548679</td>\n",
       "      <td>-92.730574</td>\n",
       "      <td>38.252399</td>\n",
       "    </tr>\n",
       "    <tr>\n",
       "      <th>26</th>\n",
       "      <td>2018-02-07</td>\n",
       "      <td>POWERGRID.NS</td>\n",
       "      <td>110.728149</td>\n",
       "      <td>108.787529</td>\n",
       "      <td>109.968781</td>\n",
       "      <td>110.137527</td>\n",
       "      <td>14316750</td>\n",
       "      <td>2.210667</td>\n",
       "      <td>3.941196</td>\n",
       "      <td>-36976527</td>\n",
       "      <td>-4.328384</td>\n",
       "      <td>-0.769341</td>\n",
       "      <td>0.000000</td>\n",
       "      <td>110.325027</td>\n",
       "      <td>110.576290</td>\n",
       "      <td>-19.305795</td>\n",
       "      <td>44.704442</td>\n",
       "    </tr>\n",
       "    <tr>\n",
       "      <th>27</th>\n",
       "      <td>2018-02-08</td>\n",
       "      <td>POWERGRID.NS</td>\n",
       "      <td>109.490654</td>\n",
       "      <td>108.196899</td>\n",
       "      <td>108.675026</td>\n",
       "      <td>109.125031</td>\n",
       "      <td>33536651</td>\n",
       "      <td>2.242725</td>\n",
       "      <td>3.571911</td>\n",
       "      <td>-70513178</td>\n",
       "      <td>-4.345512</td>\n",
       "      <td>-0.798956</td>\n",
       "      <td>25.885701</td>\n",
       "      <td>110.217215</td>\n",
       "      <td>110.409269</td>\n",
       "      <td>-93.095992</td>\n",
       "      <td>37.314365</td>\n",
       "    </tr>\n",
       "    <tr>\n",
       "      <th>28</th>\n",
       "      <td>2018-02-09</td>\n",
       "      <td>POWERGRID.NS</td>\n",
       "      <td>109.293777</td>\n",
       "      <td>107.437523</td>\n",
       "      <td>108.675026</td>\n",
       "      <td>108.000031</td>\n",
       "      <td>15183068</td>\n",
       "      <td>2.223766</td>\n",
       "      <td>3.470132</td>\n",
       "      <td>-85696246</td>\n",
       "      <td>-4.014366</td>\n",
       "      <td>-0.828759</td>\n",
       "      <td>24.383058</td>\n",
       "      <td>110.121121</td>\n",
       "      <td>110.237655</td>\n",
       "      <td>-109.780052</td>\n",
       "      <td>36.286633</td>\n",
       "    </tr>\n",
       "    <tr>\n",
       "      <th>29</th>\n",
       "      <td>2018-02-12</td>\n",
       "      <td>POWERGRID.NS</td>\n",
       "      <td>111.965652</td>\n",
       "      <td>108.731277</td>\n",
       "      <td>111.656281</td>\n",
       "      <td>109.237526</td>\n",
       "      <td>11747845</td>\n",
       "      <td>2.237640</td>\n",
       "      <td>3.549359</td>\n",
       "      <td>-73948401</td>\n",
       "      <td>-3.821622</td>\n",
       "      <td>-0.629524</td>\n",
       "      <td>23.314385</td>\n",
       "      <td>110.219559</td>\n",
       "      <td>110.503501</td>\n",
       "      <td>90.563033</td>\n",
       "      <td>54.572922</td>\n",
       "    </tr>\n",
       "  </tbody>\n",
       "</table>\n",
       "</div>"
      ],
      "text/plain": [
       "          date           tic       close        high         low        open  \\\n",
       "25  2018-02-06  POWERGRID.NS  110.025024  106.875023  109.659401  106.875023   \n",
       "26  2018-02-07  POWERGRID.NS  110.728149  108.787529  109.968781  110.137527   \n",
       "27  2018-02-08  POWERGRID.NS  109.490654  108.196899  108.675026  109.125031   \n",
       "28  2018-02-09  POWERGRID.NS  109.293777  107.437523  108.675026  108.000031   \n",
       "29  2018-02-12  POWERGRID.NS  111.965652  108.731277  111.656281  109.237526   \n",
       "\n",
       "      volume       atr       bbw       obv       cmf      macd        adx  \\\n",
       "25  13495253  2.318797  4.277521 -51293277 -4.375279 -0.846350   0.000000   \n",
       "26  14316750  2.210667  3.941196 -36976527 -4.328384 -0.769341   0.000000   \n",
       "27  33536651  2.242725  3.571911 -70513178 -4.345512 -0.798956  25.885701   \n",
       "28  15183068  2.223766  3.470132 -85696246 -4.014366 -0.828759  24.383058   \n",
       "29  11747845  2.237640  3.549359 -73948401 -3.821622 -0.629524  23.314385   \n",
       "\n",
       "           sma         ema         cci        rsi  \n",
       "25  110.378934  110.548679  -92.730574  38.252399  \n",
       "26  110.325027  110.576290  -19.305795  44.704442  \n",
       "27  110.217215  110.409269  -93.095992  37.314365  \n",
       "28  110.121121  110.237655 -109.780052  36.286633  \n",
       "29  110.219559  110.503501   90.563033  54.572922  "
      ]
     },
     "execution_count": 14,
     "metadata": {},
     "output_type": "execute_result"
    }
   ],
   "source": [
    "data_with_features.head()"
   ]
  },
  {
   "cell_type": "code",
   "execution_count": 15,
   "metadata": {},
   "outputs": [],
   "source": [
    "feature_list = list(data_with_features.columns)[7:]"
   ]
  },
  {
   "cell_type": "code",
   "execution_count": 16,
   "metadata": {},
   "outputs": [
    {
     "name": "stdout",
     "output_type": "stream",
     "text": [
      "['atr', 'bbw', 'obv', 'cmf', 'macd', 'adx', 'sma', 'ema', 'cci', 'rsi']\n"
     ]
    }
   ],
   "source": [
    "print(feature_list)"
   ]
  },
  {
   "cell_type": "markdown",
   "metadata": {},
   "source": [
    "### 4.4 Add Covariance Matrix\n",
    "---\n",
    "We define a function that will add Covarance Matrices to our dataset"
   ]
  },
  {
   "cell_type": "code",
   "execution_count": 17,
   "metadata": {},
   "outputs": [],
   "source": [
    "def add_cov_matrix(df):\n",
    "    \"\"\"\n",
    "    Function to add Coveriance Matrices as part of the defined states\n",
    "    \"\"\"\n",
    "    # Sort the data and index by date and tic\n",
    "    df=df.sort_values(['date','tic'],ignore_index=True) \n",
    "    df.index = df.date.factorize()[0]\n",
    "    \n",
    "    cov_list = [] # create empty list for storing coveriance matrices at each time step\n",
    "    \n",
    "    # look back for constructing the coveriance matrix is one year\n",
    "    lookback=252\n",
    "    for i in range(lookback,len(df.index.unique())):\n",
    "        data_lookback = df.loc[i-lookback:i,:]\n",
    "        price_lookback=data_lookback.pivot_table(index = 'date',columns = 'tic', values = 'close')\n",
    "        return_lookback = price_lookback.pct_change().dropna()\n",
    "        covs = return_lookback.cov().values \n",
    "        covs = covs#/covs.max()\n",
    "        cov_list.append(covs)\n",
    "        \n",
    "    df_cov = pd.DataFrame({'date':df.date.unique()[lookback:],'cov_list':cov_list})\n",
    "    df = df.merge(df_cov, on='date')\n",
    "    df = df.sort_values(['date','tic']).reset_index(drop=True)\n",
    "    \n",
    "    return df"
   ]
  },
  {
   "cell_type": "code",
   "execution_count": 18,
   "metadata": {},
   "outputs": [],
   "source": [
    "# Add Covariance Matrices to our dataset\n",
    "data_with_features_covs = data_with_features.copy()\n",
    "data_with_features_covs = add_cov_matrix(data_with_features_covs)"
   ]
  },
  {
   "cell_type": "code",
   "execution_count": 19,
   "metadata": {
    "scrolled": true
   },
   "outputs": [
    {
     "data": {
      "text/html": [
       "<div>\n",
       "<style scoped>\n",
       "    .dataframe tbody tr th:only-of-type {\n",
       "        vertical-align: middle;\n",
       "    }\n",
       "\n",
       "    .dataframe tbody tr th {\n",
       "        vertical-align: top;\n",
       "    }\n",
       "\n",
       "    .dataframe thead th {\n",
       "        text-align: right;\n",
       "    }\n",
       "</style>\n",
       "<table border=\"1\" class=\"dataframe\">\n",
       "  <thead>\n",
       "    <tr style=\"text-align: right;\">\n",
       "      <th></th>\n",
       "      <th>date</th>\n",
       "      <th>tic</th>\n",
       "      <th>close</th>\n",
       "      <th>high</th>\n",
       "      <th>low</th>\n",
       "      <th>open</th>\n",
       "      <th>volume</th>\n",
       "      <th>atr</th>\n",
       "      <th>bbw</th>\n",
       "      <th>obv</th>\n",
       "      <th>cmf</th>\n",
       "      <th>macd</th>\n",
       "      <th>adx</th>\n",
       "      <th>sma</th>\n",
       "      <th>ema</th>\n",
       "      <th>cci</th>\n",
       "      <th>rsi</th>\n",
       "      <th>cov_list</th>\n",
       "    </tr>\n",
       "  </thead>\n",
       "  <tbody>\n",
       "    <tr>\n",
       "      <th>0</th>\n",
       "      <td>2019-01-09</td>\n",
       "      <td>ASIANPAINT.NS</td>\n",
       "      <td>1414.000000</td>\n",
       "      <td>1397.150024</td>\n",
       "      <td>1402.000000</td>\n",
       "      <td>1402.500000</td>\n",
       "      <td>973687</td>\n",
       "      <td>23.048912</td>\n",
       "      <td>7.896857</td>\n",
       "      <td>5327756272</td>\n",
       "      <td>-4.573096</td>\n",
       "      <td>18.278495</td>\n",
       "      <td>12.349970</td>\n",
       "      <td>1391.958323</td>\n",
       "      <td>1395.415279</td>\n",
       "      <td>99.781902</td>\n",
       "      <td>64.174961</td>\n",
       "      <td>[[0.00015852269746834745, 1.720325697910041e-0...</td>\n",
       "    </tr>\n",
       "    <tr>\n",
       "      <th>1</th>\n",
       "      <td>2019-01-09</td>\n",
       "      <td>BAJAJ-AUTO.NS</td>\n",
       "      <td>2710.000000</td>\n",
       "      <td>2672.500000</td>\n",
       "      <td>2696.899902</td>\n",
       "      <td>2702.500000</td>\n",
       "      <td>285560</td>\n",
       "      <td>68.528080</td>\n",
       "      <td>9.734268</td>\n",
       "      <td>4727251038</td>\n",
       "      <td>-6.731517</td>\n",
       "      <td>-12.309002</td>\n",
       "      <td>15.475891</td>\n",
       "      <td>2747.995829</td>\n",
       "      <td>2749.349468</td>\n",
       "      <td>-79.336950</td>\n",
       "      <td>41.664892</td>\n",
       "      <td>[[0.00015852269746834745, 1.720325697910041e-0...</td>\n",
       "    </tr>\n",
       "    <tr>\n",
       "      <th>2</th>\n",
       "      <td>2019-01-09</td>\n",
       "      <td>GRASIM.NS</td>\n",
       "      <td>840.956177</td>\n",
       "      <td>823.226685</td>\n",
       "      <td>831.991821</td>\n",
       "      <td>836.673218</td>\n",
       "      <td>4021049</td>\n",
       "      <td>20.495898</td>\n",
       "      <td>7.643261</td>\n",
       "      <td>2910318411</td>\n",
       "      <td>-8.160890</td>\n",
       "      <td>-5.677552</td>\n",
       "      <td>10.975272</td>\n",
       "      <td>826.057098</td>\n",
       "      <td>829.760860</td>\n",
       "      <td>46.930317</td>\n",
       "      <td>51.833333</td>\n",
       "      <td>[[0.00015852269746834745, 1.720325697910041e-0...</td>\n",
       "    </tr>\n",
       "    <tr>\n",
       "      <th>3</th>\n",
       "      <td>2019-01-09</td>\n",
       "      <td>HCLTECH.NS</td>\n",
       "      <td>474.274994</td>\n",
       "      <td>466.149994</td>\n",
       "      <td>469.200012</td>\n",
       "      <td>473.500000</td>\n",
       "      <td>2471720</td>\n",
       "      <td>11.073495</td>\n",
       "      <td>4.922655</td>\n",
       "      <td>16292304151</td>\n",
       "      <td>-4.816448</td>\n",
       "      <td>-7.770892</td>\n",
       "      <td>24.752588</td>\n",
       "      <td>478.220833</td>\n",
       "      <td>479.209426</td>\n",
       "      <td>-102.116680</td>\n",
       "      <td>36.874787</td>\n",
       "      <td>[[0.00015852269746834745, 1.720325697910041e-0...</td>\n",
       "    </tr>\n",
       "    <tr>\n",
       "      <th>4</th>\n",
       "      <td>2019-01-09</td>\n",
       "      <td>HDFCBANK.NS</td>\n",
       "      <td>1060.675049</td>\n",
       "      <td>1051.300049</td>\n",
       "      <td>1058.400024</td>\n",
       "      <td>1059.000000</td>\n",
       "      <td>4284314</td>\n",
       "      <td>14.971774</td>\n",
       "      <td>2.942293</td>\n",
       "      <td>10597644479</td>\n",
       "      <td>-7.130459</td>\n",
       "      <td>6.709806</td>\n",
       "      <td>12.575285</td>\n",
       "      <td>1065.808339</td>\n",
       "      <td>1065.000557</td>\n",
       "      <td>-13.154608</td>\n",
       "      <td>51.853740</td>\n",
       "      <td>[[0.00015852269746834745, 1.720325697910041e-0...</td>\n",
       "    </tr>\n",
       "  </tbody>\n",
       "</table>\n",
       "</div>"
      ],
      "text/plain": [
       "         date            tic        close         high          low  \\\n",
       "0  2019-01-09  ASIANPAINT.NS  1414.000000  1397.150024  1402.000000   \n",
       "1  2019-01-09  BAJAJ-AUTO.NS  2710.000000  2672.500000  2696.899902   \n",
       "2  2019-01-09      GRASIM.NS   840.956177   823.226685   831.991821   \n",
       "3  2019-01-09     HCLTECH.NS   474.274994   466.149994   469.200012   \n",
       "4  2019-01-09    HDFCBANK.NS  1060.675049  1051.300049  1058.400024   \n",
       "\n",
       "          open   volume        atr       bbw          obv       cmf  \\\n",
       "0  1402.500000   973687  23.048912  7.896857   5327756272 -4.573096   \n",
       "1  2702.500000   285560  68.528080  9.734268   4727251038 -6.731517   \n",
       "2   836.673218  4021049  20.495898  7.643261   2910318411 -8.160890   \n",
       "3   473.500000  2471720  11.073495  4.922655  16292304151 -4.816448   \n",
       "4  1059.000000  4284314  14.971774  2.942293  10597644479 -7.130459   \n",
       "\n",
       "        macd        adx          sma          ema         cci        rsi  \\\n",
       "0  18.278495  12.349970  1391.958323  1395.415279   99.781902  64.174961   \n",
       "1 -12.309002  15.475891  2747.995829  2749.349468  -79.336950  41.664892   \n",
       "2  -5.677552  10.975272   826.057098   829.760860   46.930317  51.833333   \n",
       "3  -7.770892  24.752588   478.220833   479.209426 -102.116680  36.874787   \n",
       "4   6.709806  12.575285  1065.808339  1065.000557  -13.154608  51.853740   \n",
       "\n",
       "                                            cov_list  \n",
       "0  [[0.00015852269746834745, 1.720325697910041e-0...  \n",
       "1  [[0.00015852269746834745, 1.720325697910041e-0...  \n",
       "2  [[0.00015852269746834745, 1.720325697910041e-0...  \n",
       "3  [[0.00015852269746834745, 1.720325697910041e-0...  \n",
       "4  [[0.00015852269746834745, 1.720325697910041e-0...  "
      ]
     },
     "execution_count": 19,
     "metadata": {},
     "output_type": "execute_result"
    }
   ],
   "source": [
    "data_with_features_covs.head()"
   ]
  },
  {
   "cell_type": "code",
   "execution_count": 20,
   "metadata": {},
   "outputs": [
    {
     "name": "stdout",
     "output_type": "stream",
     "text": [
      "Number of features before adding covariance matrices: 17\n",
      "Number of features after adding covariance matrices: 18\n"
     ]
    }
   ],
   "source": [
    "# Number of features before adding covariance matrices\n",
    "num_features_before = len(data_with_features.columns)\n",
    "\n",
    "# Number of features after adding covariance matrices\n",
    "num_features_after = len(data_with_features_covs.columns)\n",
    "\n",
    "# Check if the number of features before and after are the same\n",
    "print(\"Number of features before adding covariance matrices:\", num_features_before)\n",
    "print(\"Number of features after adding covariance matrices:\", num_features_after)\n"
   ]
  },
  {
   "cell_type": "markdown",
   "metadata": {},
   "source": [
    "### 4.6 Store the Dataframe"
   ]
  },
  {
   "cell_type": "code",
   "execution_count": 21,
   "metadata": {},
   "outputs": [],
   "source": [
    "df = data_with_features_covs"
   ]
  },
  {
   "cell_type": "code",
   "execution_count": 22,
   "metadata": {},
   "outputs": [
    {
     "name": "stdout",
     "output_type": "stream",
     "text": [
      "Stored 'df' (DataFrame)\n"
     ]
    }
   ],
   "source": [
    "%store df"
   ]
  },
  {
   "cell_type": "code",
   "execution_count": 23,
   "metadata": {},
   "outputs": [
    {
     "name": "stdout",
     "output_type": "stream",
     "text": [
      "Stored variables and their in-db values:\n",
      "df                               ->              date            tic        close     \n",
      "df_close_full_stocks             ->             date  BRITANNIA.NS  AXISBANK.NS  TATAS\n",
      "filtered_stocks                  -> Index(['NESTLEIND.NS', 'HDFCBANK.NS', 'HINDUNILVR.\n"
     ]
    }
   ],
   "source": [
    "%store"
   ]
  }
 ],
 "metadata": {
  "kernelspec": {
   "display_name": "Python 3",
   "language": "python",
   "name": "python3"
  },
  "language_info": {
   "codemirror_mode": {
    "name": "ipython",
    "version": 3
   },
   "file_extension": ".py",
   "mimetype": "text/x-python",
   "name": "python",
   "nbconvert_exporter": "python",
   "pygments_lexer": "ipython3",
   "version": "3.10.11"
  }
 },
 "nbformat": 4,
 "nbformat_minor": 4
}
